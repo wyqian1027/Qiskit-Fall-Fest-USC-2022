{
 "cells": [
  {
   "cell_type": "markdown",
   "id": "2b8b8087",
   "metadata": {},
   "source": [
    "# Ejercicio 3. Entrelazamiento, CHSH y Teleportación"
   ]
  },
  {
   "cell_type": "code",
   "execution_count": null,
   "id": "1385348e",
   "metadata": {},
   "outputs": [],
   "source": [
    "import numpy as np\n",
    "from qiskit import QuantumCircuit, Aer, execute\n",
    "from qiskit.visualization import plot_bloch_multivector, array_to_latex\n",
    "from grader import *\n",
    "language(True)"
   ]
  },
  {
   "cell_type": "markdown",
   "id": "1c34ca64",
   "metadata": {},
   "source": [
    "Autor de este ejercicio: Juan Santos Suárez\n",
    "\n",
    "Contacto: juan.santos.suarez@rai.usc.es"
   ]
  },
  {
   "cell_type": "markdown",
   "id": "2f13189e",
   "metadata": {},
   "source": [
    "<div class=\"alert alert-block alert-success\">\n",
    "    \n",
    "**Léeme**\n",
    "    \n",
    "En esta parte del *challenge* vamos a explorar algunos ejercicios que tienen que ver con el entrelazamiento cuántico. Esencialmente la primera parte del ejercicio se basa en la preparación de diferentes estados y después habrá preguntas sobre ellos.\n",
    "    \n",
    "Esta estructura se parece a cómo se suelen abordar los problemas en física, primero se deben de fabricar unas condiciones iniciales y después se pueden hacer experimentos o cálculos a partir de ellas. En este caso, los estados que vamos a crear son bastante sencillos, pero no se debe olvidar que, en general, la preparación de estados es un problema realmente complicado.\n",
    "    \n",
    "En total hay 14 preguntas (marcadas en verde) en este Jupyter notebook. Hazlas en orden y no te preocupes si no te da tiempo a acabarlas todas. En caso de que te atasques y no seas capaz de resolver algún ejercicio, levanta la mano y trataremos de darte pistas que te permitan continuar. \n",
    "    \n",
    "</div>"
   ]
  },
  {
   "cell_type": "markdown",
   "id": "ab7c0633",
   "metadata": {},
   "source": [
    "## Preparación de estados"
   ]
  },
  {
   "cell_type": "markdown",
   "id": "801db4c7",
   "metadata": {},
   "source": [
    "Durante la clase de esta mañana sobre Teleportación Cuántica hemos utilizado el estado de Bell\n",
    "$$|\\phi^+\\rangle = \\frac{1}{\\sqrt{2}}\\left(|00\\rangle+|11\\rangle\\right),$$\n",
    "que preparamos utilizando el circuito\n"
   ]
  },
  {
   "cell_type": "code",
   "execution_count": null,
   "id": "fc892b32",
   "metadata": {},
   "outputs": [],
   "source": [
    "phi_plus = QuantumCircuit(2)\n",
    "phi_plus.h(0)\n",
    "phi_plus.cnot(0, 1)\n",
    "phi_plus.draw('mpl')"
   ]
  },
  {
   "cell_type": "code",
   "execution_count": null,
   "id": "1df7b23d",
   "metadata": {},
   "outputs": [],
   "source": [
    "# Simulamos para ver su resultado\n",
    "backend = Aer.get_backend('statevector_simulator')\n",
    "result = execute(phi_plus, backend).result().get_statevector()\n",
    "array_to_latex(result)"
   ]
  },
  {
   "cell_type": "markdown",
   "id": "2925dc3f",
   "metadata": {},
   "source": [
    "Sin embargo, no hemos visto cómo son los circuitos que preparan el resto de estados de Bell."
   ]
  },
  {
   "cell_type": "markdown",
   "id": "ec6a7320",
   "metadata": {},
   "source": [
    "$$|\\phi^-\\rangle = \\frac{1}{\\sqrt{2}}\\left(|00\\rangle-|11\\rangle\\right),$$\n",
    "$$|\\psi^+\\rangle = \\frac{1}{\\sqrt{2}}\\left(|01\\rangle+|10\\rangle\\right),$$\n",
    "$$|\\psi^-\\rangle = \\frac{1}{\\sqrt{2}}\\left(|01\\rangle-|10\\rangle\\right).$$\n",
    "\n",
    "Como calentamiento, crea los circuitos que preparan estos estados."
   ]
  },
  {
   "cell_type": "markdown",
   "id": "66a92cd7",
   "metadata": {},
   "source": [
    "<div class=\"alert alert-block alert-success\">\n",
    "\n",
    "**Q3.1 Crea un circuito que prepare el estado $|\\phi^-\\rangle$ (1 pt)**  \n",
    "\n",
    "Puede ser útil recordar las puertas que se han utilizado en el resto de ejercicios, en particular\n",
    "    \n",
    "$Z = \\begin{pmatrix}\n",
    "1 & 0 \\\\\n",
    "0 & -1 \\\\\n",
    "\\end{pmatrix}$\n",
    "    \n",
    "</div>"
   ]
  },
  {
   "cell_type": "code",
   "execution_count": null,
   "id": "305b7329",
   "metadata": {},
   "outputs": [],
   "source": [
    "phi_minus = QuantumCircuit(2)\n",
    "\n",
    "##### ==================================\n",
    "# Escribe tu solución aquí.\n",
    "\n",
    "\n",
    "##### ==================================\n",
    "\n",
    "phi_minus.draw('mpl')"
   ]
  },
  {
   "cell_type": "code",
   "execution_count": null,
   "id": "bd135d21",
   "metadata": {
    "scrolled": true
   },
   "outputs": [],
   "source": [
    "# Esta celda te dirá si lo que has hecho da el resultado correcto.\n",
    "# Tómalo como un indicador, los tests que hace no consideran todas las opciones posibles.\n",
    "# Si crees que tu respuesta es (in)correcta y el grader dice algo diferente, simplemente pregúntame.\n",
    "# No intentes hacer trampas modificando el código del corrector :)\n",
    "\n",
    "ex1_grader(phi_minus)"
   ]
  },
  {
   "cell_type": "markdown",
   "id": "5fd48f20",
   "metadata": {},
   "source": [
    "<div class=\"alert alert-block alert-success\">\n",
    "    \n",
    "**Q3.2 Crea un circuito que prepare el estado $|\\psi^+\\rangle$ (1 pt)**  \n",
    "    \n",
    "</div>"
   ]
  },
  {
   "cell_type": "code",
   "execution_count": null,
   "id": "3052431e",
   "metadata": {},
   "outputs": [],
   "source": [
    "psi_plus = QuantumCircuit(2)\n",
    "\n",
    "##### ==================================\n",
    "# Escribe tu solución aquí.\n",
    "\n",
    "\n",
    "\n",
    "##### ==================================\n",
    "\n",
    "psi_plus.draw('mpl')"
   ]
  },
  {
   "cell_type": "code",
   "execution_count": null,
   "id": "26457dba",
   "metadata": {
    "scrolled": true
   },
   "outputs": [],
   "source": [
    "ex2_grader(psi_plus)"
   ]
  },
  {
   "cell_type": "markdown",
   "id": "f8b76864",
   "metadata": {},
   "source": [
    "<div class=\"alert alert-block alert-success\">\n",
    "    \n",
    "**Q3.3 Crea un circuito que prepare el estado $|\\psi^-\\rangle$ (1 pt)**  \n",
    "    \n",
    "</div>"
   ]
  },
  {
   "cell_type": "code",
   "execution_count": null,
   "id": "352c9d88",
   "metadata": {},
   "outputs": [],
   "source": [
    "psi_minus = QuantumCircuit(2)\n",
    "\n",
    "##### ==================================\n",
    "# Escribe tu solución aquí.\n",
    "\n",
    "\n",
    "\n",
    "\n",
    "##### ==================================\n",
    "\n",
    "psi_minus.draw('mpl')"
   ]
  },
  {
   "cell_type": "code",
   "execution_count": null,
   "id": "bb4e2537",
   "metadata": {
    "scrolled": true
   },
   "outputs": [],
   "source": [
    "ex3_grader(psi_minus)"
   ]
  },
  {
   "cell_type": "markdown",
   "id": "c3807d08",
   "metadata": {},
   "source": [
    "Este tipo de estado maximalmente entrelazados pueden ser generalizados a sistemas con $n$ cúbits, tomando el nombre de estados de Greenberger–Horne–Zeilinger (GHZ).\n",
    "$$|\\text{GHZ}\\rangle_n = \\frac{1}{\\sqrt{2}}\\left(|0\\rangle^{\\otimes n} + |1\\rangle^{\\otimes n}\\right).$$\n",
    "\n",
    "Naturalmente, esta familia de estados también se usan en algunos protocolos de telerpotación como el [quantum Byzantine agreement](https://en.wikipedia.org/wiki/Quantum_Byzantine_agreement). A pesar de que aquí utilizemos el subíndice $n$, lo más normal es no utilizarlo y simplemente asumir que $\\text{GHZ}$ se refiere a $n=3$"
   ]
  },
  {
   "cell_type": "markdown",
   "id": "d34a6ef4",
   "metadata": {},
   "source": [
    "<div class=\"alert alert-block alert-success\">\n",
    "\n",
    "**Q3.4 Crea un circuito que prepare el estado $|\\text{GHZ}\\rangle_3$ (1 pt)**\n",
    "\n",
    "$$|\\text{GHZ}\\rangle_3 = \\frac{1}{\\sqrt{2}}\\left(|000\\rangle + |111\\rangle\\right)$$"
   ]
  },
  {
   "cell_type": "code",
   "execution_count": null,
   "id": "79063038",
   "metadata": {},
   "outputs": [],
   "source": [
    "GHZ = QuantumCircuit(3)\n",
    "\n",
    "##### ==================================\n",
    "# Escribe tu solución aquí.\n",
    "\n",
    "\n",
    "\n",
    "##### ==================================\n",
    "\n",
    "GHZ.draw('mpl')"
   ]
  },
  {
   "cell_type": "code",
   "execution_count": null,
   "id": "b964329b",
   "metadata": {},
   "outputs": [],
   "source": [
    "ex4_grader(GHZ)"
   ]
  },
  {
   "cell_type": "markdown",
   "id": "48bf63ff",
   "metadata": {},
   "source": [
    "Por supuesto, los estados entrelazados pueden tomar formas bastante diferentes. Por ejemplo, considera el estado de $3$ cúbits que tiene un número par de unos\n",
    "$$|\\text{Even}\\rangle = c_{00}|000\\rangle + c_{01}|101\\rangle + c_{10}|110\\rangle + c_{11}|011\\rangle.$$\n",
    "\n",
    "Si ignoramos el primer cúbit, el estado en los otros dos podría estar no entrelazado dependiendo de los valores de $c_{ij}$. En particular, si consideramos $c_{ij}=\\frac{1}{2}$, tendremos una superposición uniforme en los dos últimos cúbits\n",
    "$$|++\\rangle = \\frac{1}{2} \\left(|00\\rangle+|01\\rangle+|10\\rangle+|11\\rangle\\right),$$\n",
    "\n",
    "esto es, un estado producto $|++\\rangle = \\left(\\frac{1}{\\sqrt{2}}\\left(|0\\rangle+|1\\rangle\\right)\\right)\\otimes \\left(\\frac{1}{\\sqrt{2}}\\left(|0\\rangle+|1\\rangle\\right)\\right)$. Pero si añadimos el primer cúbit que elige la paridad,\n",
    "$$|\\text{Even}\\rangle_{++} = \\frac{1}{2}\\left(|000\\rangle + |101\\rangle + |110\\rangle + |011\\rangle\\right),$$\n",
    "\n",
    "esta estructura de estado producto se pierde. Adicionalmente, si se midiese alguno de los cúbits, está garantizado que el otro par estará en el estado $|\\phi^+\\rangle$ si se mide $0$ o $|\\psi^+\\rangle$ si se mide $1$.\n",
    "\n",
    "A pesar de que esto pueda parecer medio trivial, puede ser importante para sistemas físicos reales. Dos buenos ejemplos de lo útil que puede ser este tema de la paridad son el hecho de que los estados fundamentales de ciertos sistemas puedan tener fijada su paridad o que esto se tenga en cuanta a la hora de implementar operadores de evolución temporal $e^{-iHt}$ (Nielsen and Chuang section 4.7.3)"
   ]
  },
  {
   "cell_type": "markdown",
   "id": "d0b1473a",
   "metadata": {},
   "source": [
    "<div class=\"alert alert-block alert-success\">\n",
    "\n",
    "**Q3.5 Crea un circuito que prepare la superposición uniforme de estados pares. (1 pt)**\n",
    "    \n",
    "$$|\\text{Even}\\rangle_{++} = \\frac{1}{2}\\left(|000\\rangle + |101\\rangle + |110\\rangle + |011\\rangle\\right).$$\n",
    "    \n",
    "</div>"
   ]
  },
  {
   "cell_type": "code",
   "execution_count": null,
   "id": "6ebc6f4a",
   "metadata": {},
   "outputs": [],
   "source": [
    "Even = QuantumCircuit(3)\n",
    "\n",
    "##### ==================================\n",
    "# Escribe tu solución aquí.\n",
    "\n",
    "\n",
    "\n",
    "\n",
    "##### ==================================\n",
    "\n",
    "Even.draw('mpl')"
   ]
  },
  {
   "cell_type": "code",
   "execution_count": null,
   "id": "1520a15a",
   "metadata": {},
   "outputs": [],
   "source": [
    "ex5_grader(Even)"
   ]
  },
  {
   "cell_type": "markdown",
   "id": "e895c058",
   "metadata": {},
   "source": [
    "<div class=\"alert alert-block alert-success\">\n",
    "\n",
    "**Q3.6 Crea un circuito que prepare la superposición uniforme de estados impares (1 pt)**\n",
    "    \n",
    "$$|\\text{Odd}\\rangle_{++} = \\frac{1}{2}\\left(|100\\rangle + |001\\rangle + |010\\rangle + |111\\rangle\\right).$$\n",
    "    \n",
    "</div>"
   ]
  },
  {
   "cell_type": "code",
   "execution_count": null,
   "id": "4870af06",
   "metadata": {},
   "outputs": [],
   "source": [
    "Odd = QuantumCircuit(3)\n",
    "\n",
    "##### ==================================\n",
    "# Escribe tu solución aquí.\n",
    "\n",
    "\n",
    "\n",
    "\n",
    "##### ==================================\n",
    "\n",
    "Odd.draw('mpl')"
   ]
  },
  {
   "cell_type": "code",
   "execution_count": null,
   "id": "7612b65d",
   "metadata": {},
   "outputs": [],
   "source": [
    "ex6_grader(Odd)"
   ]
  },
  {
   "cell_type": "markdown",
   "id": "385e5876",
   "metadata": {},
   "source": [
    "# Desigualdad CHSH "
   ]
  },
  {
   "cell_type": "markdown",
   "id": "bc62c22c",
   "metadata": {},
   "source": [
    "Hemos discutido algunos aspectos sobre como funciona el entrelazamiento y lo antiintuitivo que puede llegar a ser. Como vimos durante la clase, en los principios de la Mecánica Cuántica, una parte importante de la comunidad científica pensaba que no podía ser correcto. En particular, lo que era especialmente controvertido era el funcionamiento de las medidas. Si las superposiciones no fuesen reales sino un artefacto creado por una teoría incompleta, no habría ningún problema. La alternativa que se buscaba era una teoría que pudiese predecir cual iba a ser el resultado de una medida de manera determinista. Este tipo de teorías se llamaban *teorías de variables ocultas*.\n",
    "\n",
    "Para que esto funcionase, el universo debería de ser *localmente real*. Esto significa que cualquier sistema debería de tener sus cantidades medibles perfectamente determinadas de manera local, es decir, por lo que haya a su alrededor, sin influencias lejanas. Por supuesto esto implica que una medida sobre un sistema que esté arbitrariamente lejos no podría alterar el sistema, todo debería de estar definido antes.\n",
    "\n",
    "En 1963, John Bell descubrió que se podría testear experimentalmente si el realismo local es cierto o no."
   ]
  },
  {
   "cell_type": "markdown",
   "id": "048f63eb",
   "metadata": {},
   "source": [
    "## Medidas en diferentes bases.\n",
    "\n",
    "En computación cuántica solemos escribir los estados en la base computacional, es decir, para un sistema de $1$ cúbit,\n",
    "\n",
    "$$|\\psi\\rangle = \\sqrt{p_0}|0\\rangle + \\sqrt{1-p_0} |1\\rangle.$$\n",
    "\n",
    "Como viste en el ejercicio anterior, cuando medimos decimos que obtenemos $0$ con una probabilidad $p_0$ y $1$ con probabilidad $p_1=1-p_0$. Estas medidas se están realizando en la dirección del eje Z de la esfera de Bloch, es decir, estamos obteniendo la proyección del estado a medir sobre ese eje. De manera matemática, esto es porque $|0\\rangle$ y $|1\\rangle$ son autoestados de $Z$ con autovalores $+1$ y $-1$.\n",
    "\n",
    "De esta forma, $\\langle Z \\rangle = \\langle \\psi | Z | \\psi \\rangle= +1\\times p_0 +(-1)\\times(1-p_0)$. "
   ]
  },
  {
   "cell_type": "code",
   "execution_count": null,
   "id": "e75e6b6b",
   "metadata": {},
   "outputs": [],
   "source": [
    "def measure_z_axis(qc, qubit, cbit): #Las medidas deben guardarse en bits clásicos.\n",
    "    qc.measure(qubit, cbit)"
   ]
  },
  {
   "cell_type": "markdown",
   "id": "7a10c837",
   "metadata": {},
   "source": [
    "¿Qué pasaría si quisiésemos medir en la dirección del eje X? Primero tendríamos que darnos cuenta de que los autovalores del operador $X$ son\n",
    "$$|\\pm\\rangle = \\frac{1}{\\sqrt{2}}\\left(|0\\rangle \\pm |1\\rangle\\right) \\quad \\text{dado que} \\quad X|\\pm\\rangle = \\pm1|\\pm\\rangle.$$\n",
    "\n",
    "Si podemos mapear autoestados de $X$ en autoestados de $Z$, $|+\\rangle \\rightarrow |0\\rangle$ y $|-\\rangle \\rightarrow |1\\rangle$ podríamos medir en $X$ haciendo primero esa transformación y luego midiendo $Z$."
   ]
  },
  {
   "cell_type": "markdown",
   "id": "daef4012",
   "metadata": {},
   "source": [
    "<div class=\"alert alert-block alert-success\">\n",
    "    \n",
    "**Q3.7: Crea una función que añada una medida a lo largo del eje X.**\n",
    "    \n",
    "Esto es muy similar a lo que ya hiciste con opflow en el último ejercicio, pero esta vez lo estamos haciendo con un circuito cuántico.    \n",
    "</div>"
   ]
  },
  {
   "cell_type": "code",
   "execution_count": null,
   "id": "3d259841",
   "metadata": {},
   "outputs": [],
   "source": [
    "def measure_x_axis(qc, qubit, cbit):\n",
    "    ##### ==================================\n",
    "    # Escribe tu solución aquí.\n",
    "\n",
    "    \n",
    "    \n",
    "    ##### =================================="
   ]
  },
  {
   "cell_type": "code",
   "execution_count": null,
   "id": "bf79f804",
   "metadata": {},
   "outputs": [],
   "source": [
    "ex7_grader(measure_x_axis)"
   ]
  },
  {
   "cell_type": "markdown",
   "id": "fd063d1a",
   "metadata": {},
   "source": [
    "Ahora que podemos medir tanto en la base Z como en la Z, podemos hacer una función que calcula el valor esperado dado un número de medidas `nshots` para un circuito de un cúbit."
   ]
  },
  {
   "cell_type": "code",
   "execution_count": null,
   "id": "d2bd0def",
   "metadata": {},
   "outputs": [],
   "source": [
    "def expectation_value_single_qubit(qc, nshots=8092):\n",
    "    # Ejecuta el circuito que ya está rotado a la base correspondiente\n",
    "    backend_shots = Aer.get_backend('qasm_simulator')\n",
    "    counts = execute(qc, backend_shots, shots=nshots).result().get_counts() #Counts is a dictionary that contains the number of zeros and the number of ones measured\n",
    "    \n",
    "    # Esto es simplemente para evitar problemas. En caso de que falte una key en el diccionario la añade\n",
    "    if '1' not in counts.keys():\n",
    "        counts['1'] = 0\n",
    "    if '0' not in counts.keys():\n",
    "        counts['0'] = 0\n",
    "        \n",
    "    # Obten el numero de veces que se ha medido 0 y 1\n",
    "    n_zeros = counts['0']\n",
    "    n_ones  = counts['1']\n",
    "    \n",
    "    # Calcula las probabilidades\n",
    "    p_0 = n_zeros/nshots\n",
    "    p_1 = n_ones/nshots # O 1-p_0\n",
    "\n",
    "    expectation_value = 1*p_0+(-1)*p_1\n",
    "    return expectation_value"
   ]
  },
  {
   "cell_type": "code",
   "execution_count": null,
   "id": "ae29e6a9",
   "metadata": {
    "scrolled": true
   },
   "outputs": [],
   "source": [
    "# Mide <Z> sobre un estado que te guste\n",
    "qc_z = QuantumCircuit(1,1)\n",
    "measure_z_axis(qc_z, 0, 0)\n",
    "\n",
    "print('<Z>=', expectation_value_single_qubit(qc_z))\n",
    "qc_z.draw('mpl')"
   ]
  },
  {
   "cell_type": "code",
   "execution_count": null,
   "id": "156e9a5d",
   "metadata": {},
   "outputs": [],
   "source": [
    "# Mide <X> sobre un estado que te guste\n",
    "qc_x = QuantumCircuit(1,1)\n",
    "measure_x_axis(qc_x, 0, 0)\n",
    "\n",
    "print('<X>=', expectation_value_single_qubit(qc_x))\n",
    "qc_x.draw('mpl')"
   ]
  },
  {
   "cell_type": "markdown",
   "id": "16afadaf",
   "metadata": {},
   "source": [
    "## Cálculo de CHSH"
   ]
  },
  {
   "cell_type": "markdown",
   "id": "64b6a00b",
   "metadata": {},
   "source": [
    "Imagina ahora que Alice y Bob comparten los componentes de un sistema bipartito, se separan y los dos realizan a la vez una medida en bases aleatorias elegidas entre dos posibles para cada uno. Las bases de Alice se llamarán A y a y las de Bob se llamarán B y b. Que pasaría si midiésemos el valor esperado de \n",
    "$$\\langle CHSH\\rangle = \\langle AB\\rangle - \\langle Ab\\rangle + \\langle aB\\rangle + \\langle ab\\rangle ?$$\n",
    "\n",
    "Si el localismo real es cierto, las medidas de Alice no deben de influir a las de Bob. Además, las propiedades que puedan medirse deben de estar definidas antes de que se realice el experimento. Como cada medida sólo puede dar valores $\\pm1$, tanto $(B-b)$ como $(B+b)$ can only be $0$ or $\\pm2$. Por lo tanto, $A(B-b)+a(B+b)$ sólo puede ser $+2$ o $-2$, así que $|\\langle CHSH\\rangle| \\leq 2$."
   ]
  },
  {
   "cell_type": "markdown",
   "id": "04a38f24",
   "metadata": {},
   "source": [
    "Vamos a ver qué ocurre si replicamos este experimento de manera cuántica, usando el estado $|\\phi^+\\rangle$. Vamos a asumir que las bases de Bob son $B=Z$ y $b=X$ mientras que las de Alice son $A=\\frac{1}{\\sqrt{2}}\\left(Z-X\\right)$ y $a=\\frac{1}{\\sqrt{2}}\\left(Z+X\\right)$. Esto simplemente significa que las bases de Alice están rotadas un ángulo $\\pi/2$ con respecto a las de Bob.\n",
    "\n",
    "Es importante ver que podemos escribir, por ejemplo $\\langle \\phi^+|AB|\\phi^+\\rangle = \\langle \\phi^+|\\frac{1}{\\sqrt{2}}\\left(Z-X\\right)Z|\\phi^+\\rangle = \\frac{1}{\\sqrt{2}}\\left(\\langle \\phi^+|ZZ|\\phi^+\\rangle-\\langle \\phi^+|XZ|\\phi^+\\rangle\\right)$ así que podemos escribir todo como una combinación de medidas en $ZZ$, $ZX$, $XZ$ y $XX$."
   ]
  },
  {
   "cell_type": "markdown",
   "id": "caf9a6c9",
   "metadata": {},
   "source": [
    "<div class=\"alert alert-block alert-success\">\n",
    "\n",
    "**Q3.8 Crea todos los circuitos que necesitas para calcular todos esos valores esperados! (1pt)**\n",
    "    \n",
    "Crea una lista de circuitos que pueda usarse para calcular $\\langle \\phi^+|ZZ|\\phi^+\\rangle$, $\\langle \\phi^+|ZX|\\phi^+\\rangle$, $\\langle \\phi^+|XZ|\\phi^+\\rangle$ y $\\langle \\phi^+|XX|\\phi^+\\rangle$\n",
    "    \n",
    "</div>"
   ]
  },
  {
   "cell_type": "code",
   "execution_count": null,
   "id": "b9aed745",
   "metadata": {},
   "outputs": [],
   "source": [
    "##### ==================================\n",
    "# Escribe tu solución aquí.\n",
    "\n",
    "# Primero crea un estado de Bell\n",
    "\n",
    "\n",
    "# Para cada uno de los operadores que queremos medir, (ZZ, ZX, XZ and XX) crea un nuevo circuito (quizás usando qc.copy())\n",
    "# que mida en ese eje.\n",
    "chsh_circuits = []\n",
    "\n",
    "\n",
    "\n",
    "##### =================================="
   ]
  },
  {
   "cell_type": "code",
   "execution_count": null,
   "id": "54f31a09",
   "metadata": {},
   "outputs": [],
   "source": [
    "chsh_circuits[0].draw('mpl')"
   ]
  },
  {
   "cell_type": "code",
   "execution_count": null,
   "id": "f722d778",
   "metadata": {},
   "outputs": [],
   "source": [
    "chsh_circuits[1].draw('mpl')"
   ]
  },
  {
   "cell_type": "code",
   "execution_count": null,
   "id": "672298da",
   "metadata": {},
   "outputs": [],
   "source": [
    "chsh_circuits[2].draw('mpl')"
   ]
  },
  {
   "cell_type": "code",
   "execution_count": null,
   "id": "2ab9020a",
   "metadata": {},
   "outputs": [],
   "source": [
    "chsh_circuits[3].draw('mpl')"
   ]
  },
  {
   "cell_type": "code",
   "execution_count": null,
   "id": "12333ab2",
   "metadata": {},
   "outputs": [],
   "source": [
    "# Hacer tests aquí que no revelasen la respuesta era complicado, así que no hay ayuda :("
   ]
  },
  {
   "cell_type": "markdown",
   "id": "3efe3f32",
   "metadata": {},
   "source": [
    "Ejecuta los circuitos usando un simulador (o [usa un ordenador cuántico real](https://towardsdatascience.com/how-to-run-code-on-a-real-quantum-computer-c1fc61ff5b4))"
   ]
  },
  {
   "cell_type": "code",
   "execution_count": null,
   "id": "12d84fd5",
   "metadata": {},
   "outputs": [],
   "source": [
    "# Podemos correr todos los circuitos a la vez y luego postprocesar los datos\n",
    "nshots = 8092 # Cuantos más shots, menos error\n",
    "backend_shots = Aer.get_backend('qasm_simulator')\n",
    "counts_list = execute(chsh_circuits, backend_shots, shots=nshots).result().get_counts()\n",
    "counts_list"
   ]
  },
  {
   "cell_type": "markdown",
   "id": "b73c4330",
   "metadata": {},
   "source": [
    "<div class=\"alert alert-block alert-success\">\n",
    "    \n",
    "**Q3.9 Usa los resultados obtenidos en la celda antrerior para calcular todos los valores esperados que necesites. (1pt)**\n",
    "    \n",
    "El procedimiento es similar a cómo se calculaban valores esperados de un cúbit. Ten en cuenta en si cada probabilidad va con un signo positivo o negativo\n",
    "    \n",
    " </div>"
   ]
  },
  {
   "cell_type": "code",
   "execution_count": null,
   "id": "b0f336d2",
   "metadata": {},
   "outputs": [],
   "source": [
    "##### ==================================\n",
    "# Escribe tu solución aquí.\n",
    "\n",
    "# Para cada uno de los circuitos, coge las counts que tengas para ese circuito, calcula la probabilidad\n",
    "#de cada estado y combinalas teniendo mucho cuidado con qué signo lleva cada término\n",
    "\n",
    "\n",
    "\n",
    "# Puede que quieras inspirarte en la función expectation_value_single_qubit\n",
    "# Si estás muy perdido y no sabes cómo resolver esto, puedes preguntar.\n",
    "\n",
    "##### =================================="
   ]
  },
  {
   "cell_type": "code",
   "execution_count": null,
   "id": "a9ad1d21",
   "metadata": {},
   "outputs": [],
   "source": [
    "# Si no sabes si tu respuesta es correcta, puedes calcular los resultados a mano\n",
    "# (de hecho seguramente sea más fácil que calcularlo así) y comprobar si tu código está funcionando"
   ]
  },
  {
   "cell_type": "markdown",
   "id": "abe2d53b",
   "metadata": {},
   "source": [
    "<div class=\"alert alert-block alert-success\">\n",
    "    \n",
    "**Q3.10 Usa los resultados obtenidos arriba para calcular $\\langle CHSH \\rangle$. (1pt)**\n",
    "\n",
    "</div>"
   ]
  },
  {
   "cell_type": "code",
   "execution_count": null,
   "id": "ad4034ce",
   "metadata": {},
   "outputs": [],
   "source": [
    "##### ==================================\n",
    "# Escribe tu solución aquí.\n",
    "exp_AB = \n",
    "exp_Ab = \n",
    "exp_aB =\n",
    "exp_ab = \n",
    "\n",
    "CHSH = \n",
    "##### ==================================\n",
    "print('Tu resultado es <CHSH>=', CHSH)"
   ]
  },
  {
   "cell_type": "code",
   "execution_count": null,
   "id": "a8b3e4be",
   "metadata": {},
   "outputs": [],
   "source": [
    "print('El resultado correcto es <CHSH>=', 2*np.sqrt(2))"
   ]
  },
  {
   "cell_type": "markdown",
   "id": "dfaa60ef",
   "metadata": {},
   "source": [
    "Si todo ha ido bien, debes de haber obtenido $\\langle CHSH \\rangle = 2\\sqrt{2} > 2$, lo cual es una clara contradicción con nestra intuición clásica. En otras palabras, hay correlaciones que no pueden ser explicadas con mecánica clásica.\n",
    "\n",
    "La manera de explicarlas es a través del entrelazamiento. Lo que este resultado nos está diciendo es que, efectivamente, los estados estaban en una superposición cuántica entrelazada hasta el momento de la medida"
   ]
  },
  {
   "cell_type": "markdown",
   "id": "b31b944f",
   "metadata": {},
   "source": [
    "<div class=\"alert alert-block alert-success\">\n",
    "    \n",
    "**Q3.11 ¿Qué pasaría si corriésemos este código en un ordenador cuántico real? (1pt)**\n",
    "\n",
    "Imagina que cambiásemos nuestro backend a un ordenador cuántico real y obtuviésemos el mismo resultado. ¿Habríamos probado la violación de las desigualdades de Bell?\n",
    "</div>"
   ]
  },
  {
   "cell_type": "markdown",
   "id": "c6ac3ddf",
   "metadata": {},
   "source": [
    "ESCRIBE AQUÍ"
   ]
  },
  {
   "cell_type": "markdown",
   "id": "68047a2c",
   "metadata": {},
   "source": [
    "# Teleportación Cuántica\n",
    "\n",
    "Si tienes tiempo, haz también estos ejercicios."
   ]
  },
  {
   "attachments": {
    "image.png": {
     "image/png": "[encoded data removed]"
    }
   },
   "cell_type": "markdown",
   "id": "0ead65eb",
   "metadata": {},
   "source": [
    "<div class=\"alert alert-block alert-success\">\n",
    "    \n",
    "**Q3.12 ¿Puedes teleportar entrelazamiento? (1pt)**\n",
    "\n",
    "¿Qué pasaría si, en el protocolo de teleportación, el estado que Alice quiere teleportar estuviese entrelazado con otro cúbit?¿Se teleporta el entrelazamiento?\n",
    "    \n",
    "![image.png](attachment:image.png)\n",
    "    \n",
    "Puedes resolver esto como consideres (con código o con papel y boli). Puedes considerar un ejemplo concreto si así es más fácil.\n",
    "</div>"
   ]
  },
  {
   "cell_type": "code",
   "execution_count": null,
   "id": "4e45120f",
   "metadata": {},
   "outputs": [],
   "source": [
    "##### ==================================\n",
    "# Escribe tu solución aquí.\n",
    "Can_entanglement_be_teleported =  #Escribe True or False :D\n",
    "##### =================================="
   ]
  },
  {
   "attachments": {
    "image.png": {
     "image/png": "[encoded data removed]"
    }
   },
   "cell_type": "markdown",
   "id": "01563e27",
   "metadata": {},
   "source": [
    "<div class=\"alert alert-block alert-success\">\n",
    "    \n",
    "**Q3.13 ¿Dónde está mi par de Bell? (1pt)**\n",
    "\n",
    "El siguiente circuito teleporta el estado entrelazado $\\phi^+$ en los primeros cúbits entrelazandolo con un estado GHZ y luego haciendo varias operaciones. Encuentra en qué dos cúbits acaba el estado $\\phi^+$\n",
    "    \n",
    "![image.png](attachment:image.png)\n",
    "    \n",
    "De nuevo, puedes resolver esto a mano, pero puede que sea más sencillo hacer el circuito en qiskit y buscar donde ha acabado el estado\n",
    "</div>"
   ]
  },
  {
   "cell_type": "code",
   "execution_count": null,
   "id": "7b105fcf",
   "metadata": {},
   "outputs": [],
   "source": [
    "##### ==================================\n",
    "# Escribe tu solución aquí.\n",
    "Where_did_the_bell_pair_go = 'Escribe aquí'\n",
    "##### =================================="
   ]
  },
  {
   "cell_type": "markdown",
   "id": "2f0c4da9",
   "metadata": {},
   "source": [
    "# Comunicación superlumínica"
   ]
  },
  {
   "cell_type": "markdown",
   "id": "72f5a6f2",
   "metadata": {},
   "source": [
    "Considera una vez más el estado de Bell\n",
    "\n",
    "$$|\\phi^+\\rangle = \\frac{1}{\\sqrt{2}}\\left(|00\\rangle+|11\\rangle\\right)$$\n",
    "\n",
    "Alice quiere quiere mandar el mensaje $01110101...$ a Bob, así que comparten tantos pares de Bell como bits que quieran transmitir. Se ponen de acuerdo en que cuando Alice quiera enviar un $0$, medirá en la base $Z$, mientras que si quiere mandar un $1$, medirá en la base $X$. Haciendo esto, la función de onda colapsará instantánemanete a un autoestado de $Z$ o $X$ sin importar lo lejos que esté Bob. ¿Puede Bob recuperar el mensaje haciendo una sola medida por cada bit (es decir, sin hacer copias)?"
   ]
  },
  {
   "cell_type": "markdown",
   "id": "a568f6ff",
   "metadata": {},
   "source": [
    "<div class=\"alert alert-block alert-success\">\n",
    "    \n",
    "**Q3.14 ¿Puede Bob recuperar el mensaje? (1pt)**\n",
    "\n",
    "Justifica por qué este protocolo no permite a Bob recuperar el mensaje original si no puede hacer copias del estado. Además implementalo en qiskit.\n",
    "</div>"
   ]
  },
  {
   "cell_type": "markdown",
   "id": "ccf63e6e",
   "metadata": {},
   "source": [
    "ESCRIBE AQUÍ"
   ]
  },
  {
   "cell_type": "code",
   "execution_count": null,
   "id": "c96f8443",
   "metadata": {},
   "outputs": [],
   "source": [
    "##### ==================================\n",
    "# Escribe tu solución aquí.\n",
    "\n",
    "##### =================================="
   ]
  },
  {
   "cell_type": "markdown",
   "id": "13cc18ba",
   "metadata": {},
   "source": [
    "<div class=\"alert alert-block alert-success\">\n",
    "\n",
    "**Instrucciones de entrega**  \n",
    "    \n",
    "Cuando estés listo, corre la siguiente celda y manda por email tus Jupyter notebooks a meijian.li@usc.es\n",
    "</div>"
   ]
  },
  {
   "cell_type": "code",
   "execution_count": null,
   "id": "7a041f18",
   "metadata": {},
   "outputs": [],
   "source": [
    "import qiskit.tools.jupyter\n",
    "%qiskit_version_table"
   ]
  }
 ],
 "metadata": {
  "kernelspec": {
   "display_name": "Python 3 (ipykernel)",
   "language": "python",
   "name": "python3"
  },
  "language_info": {
   "codemirror_mode": {
    "name": "ipython",
    "version": 3
   },
   "file_extension": ".py",
   "mimetype": "text/x-python",
   "name": "python",
   "nbconvert_exporter": "python",
   "pygments_lexer": "ipython3",
   "version": "3.9.7"
  },
  "varInspector": {
   "cols": {
    "lenName": 16,
    "lenType": 16,
    "lenVar": 40
   },
   "kernels_config": {
    "python": {
     "delete_cmd_postfix": "",
     "delete_cmd_prefix": "del ",
     "library": "var_list.py",
     "varRefreshCmd": "print(var_dic_list())"
    },
    "r": {
     "delete_cmd_postfix": ") ",
     "delete_cmd_prefix": "rm(",
     "library": "var_list.r",
     "varRefreshCmd": "cat(var_dic_list()) "
    }
   },
   "types_to_exclude": [
    "module",
    "function",
    "builtin_function_or_method",
    "instance",
    "_Feature"
   ],
   "window_display": false
  }
 },
 "nbformat": 4,
 "nbformat_minor": 5
}
