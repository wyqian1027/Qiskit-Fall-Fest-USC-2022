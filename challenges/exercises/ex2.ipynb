{
 "cells": [
  {
   "cell_type": "markdown",
   "id": "c687a1db-a269-4be2-b01d-64fa88afda4f",
   "metadata": {},
   "source": [
    "# Exercise 2. Quantum Expectation"
   ]
  },
  {
   "cell_type": "code",
   "execution_count": 1,
   "id": "7b47bc48-cabd-455b-867b-2f82ab7d6347",
   "metadata": {},
   "outputs": [],
   "source": [
    "from qiskit import QuantumCircuit, execute, Aer\n",
    "from qiskit.opflow import One, Zero, Plus, Minus\n",
    "from qiskit.opflow import I, X, Y, Z, S, H\n",
    "from qiskit.visualization import plot_bloch_multivector, plot_bloch_vector, plot_histogram\n",
    "from math import pi, sqrt, acos, asin, e, log, sin, cos\n",
    "from numpy import angle"
   ]
  },
  {
   "cell_type": "markdown",
   "id": "0d7eb41b-a46d-44ca-aae0-c45d2736a71f",
   "metadata": {},
   "source": [
    "<div class=\"alert alert-block alert-success\">\n",
    "\n",
    "**Readme**  \n",
    "    \n",
    "There are 7 questions (marked in Green) in total in this Jupyter notebook. These questions will teach you how to use the opflow library and how to evaluate expectation on quantum circuit.\n",
    "</div>"
   ]
  },
  {
   "cell_type": "markdown",
   "id": "9804e8b0-5402-4f6b-ac2e-3a339f0dfef5",
   "metadata": {
    "tags": []
   },
   "source": [
    "## 2.1 Introduction to Opflow library\n",
    "\n",
    "Opflow library is probably the most convenient library introduced in Qiskit. It allows for algebraic manipulation of quantum states, expectation values, and more. Here, we will learn to use the opflow library at a basic level.\n",
    "\n"
   ]
  },
  {
   "cell_type": "markdown",
   "id": "c1721241-269c-487c-ac50-29026dbec7f8",
   "metadata": {},
   "source": [
    "### State\n",
    "\n",
    "States are important construct to represent the quantum system. We have already seen the states $|0\\rangle$, $|1\\rangle$, $|+\\rangle$, $|-\\rangle$ during lectures. Here they can easily built with opflow library. Remember,\n",
    "\n",
    "$|+\\rangle = \\frac{1}{\\sqrt{2}}|0\\rangle + \\frac{1}{\\sqrt{2}}|1\\rangle$   \n",
    "$|-\\rangle = \\frac{1}{\\sqrt{2}}|0\\rangle - \\frac{1}{\\sqrt{2}}|1\\rangle$\n"
   ]
  },
  {
   "cell_type": "code",
   "execution_count": null,
   "id": "34ea2a5c-4747-4b78-a883-d859f70547a1",
   "metadata": {},
   "outputs": [],
   "source": [
    "Zero"
   ]
  },
  {
   "cell_type": "code",
   "execution_count": null,
   "id": "d1cbcd21-0aaa-4a7f-af3d-7aa973235344",
   "metadata": {},
   "outputs": [],
   "source": [
    "One"
   ]
  },
  {
   "cell_type": "code",
   "execution_count": null,
   "id": "a1c1709f-8410-42e6-982b-c80e871ebd24",
   "metadata": {},
   "outputs": [],
   "source": [
    "Plus"
   ]
  },
  {
   "cell_type": "code",
   "execution_count": null,
   "id": "90c4dd02-8c61-4226-b726-b6271418cac9",
   "metadata": {},
   "outputs": [],
   "source": [
    "Minus"
   ]
  },
  {
   "cell_type": "markdown",
   "id": "df98c1af-1d4d-4557-a06c-a998e3d3a45e",
   "metadata": {},
   "source": [
    "These states may also carry coefficients"
   ]
  },
  {
   "cell_type": "code",
   "execution_count": null,
   "id": "9eecc358-812e-4498-a77a-f2689ba16155",
   "metadata": {},
   "outputs": [],
   "source": [
    "1.5 * Zero"
   ]
  },
  {
   "cell_type": "code",
   "execution_count": null,
   "id": "cb979796-a81e-476e-806f-c3d9bb65a607",
   "metadata": {},
   "outputs": [],
   "source": [
    "-3 * Plus"
   ]
  },
  {
   "cell_type": "markdown",
   "id": "249b4cda-de7a-4499-b807-5c3825c520d6",
   "metadata": {},
   "source": [
    "These states can also be tensored together to form multi-qubit quantum state, with the \"^\" operand."
   ]
  },
  {
   "cell_type": "code",
   "execution_count": null,
   "id": "0e6245dc-79af-4201-8bda-15f269824569",
   "metadata": {},
   "outputs": [],
   "source": [
    "Zero^Zero^One"
   ]
  },
  {
   "cell_type": "code",
   "execution_count": null,
   "id": "e2b702f6-1114-4c9c-85a7-1d774008d350",
   "metadata": {},
   "outputs": [],
   "source": [
    "Plus^Minus^Zero^Zero"
   ]
  },
  {
   "cell_type": "markdown",
   "id": "e5a1bb12-898f-42f3-aa41-352d1081dc1a",
   "metadata": {},
   "source": [
    "We can also represent superposition of these states, using the \"+\" or \"-\" operand. Note composite quantum state must be enclosed inside parenthesis \"(...)\" first, before putting into superposition."
   ]
  },
  {
   "cell_type": "code",
   "execution_count": null,
   "id": "701e25d1-4abf-40d3-82a4-6a1a33786a75",
   "metadata": {},
   "outputs": [],
   "source": [
    "Zero + One"
   ]
  },
  {
   "cell_type": "code",
   "execution_count": null,
   "id": "22285fba-8df4-4fb3-9877-198ff0734ec5",
   "metadata": {},
   "outputs": [],
   "source": [
    "Plus + Minus"
   ]
  },
  {
   "cell_type": "code",
   "execution_count": null,
   "id": "02e34668-c255-4eb9-93d6-aec47bb48fa7",
   "metadata": {},
   "outputs": [],
   "source": [
    "(Zero^Zero^One) + (Zero^One^Zero) + (One^Zero^Zero)"
   ]
  },
  {
   "cell_type": "code",
   "execution_count": null,
   "id": "d3c46c5d-59b8-4551-b719-d0f138f0b22c",
   "metadata": {},
   "outputs": [],
   "source": [
    "(Zero^Zero^One) - 1.5*(Zero^One^Zero) + 3*(One^Zero^Zero)"
   ]
  },
  {
   "cell_type": "markdown",
   "id": "6f2d8b7b-62e3-446b-9bc0-d99453c4a9e7",
   "metadata": {},
   "source": [
    "### Arbitrary quantum state\n",
    "\n",
    "We have learned that the arbitrary quantum state can be written as $|\\psi\\rangle = \\alpha |0\\rangle + \\beta |1\\rangle$, where $|\\alpha|^2 + |\\beta|^2 \\equiv 1$, and $\\alpha$, $\\beta$ are complex numbers. Since quantum state is equivalent up to a general phase, we can remove the overall complex phase of $|\\psi\\rangle$ by restricting $\\alpha$ to be real number and $\\beta$ to be complex number. Then we have\n",
    "\n",
    "$|\\psi(\\beta)\\rangle = \\alpha |0\\rangle + \\beta |1\\rangle$, where $\\beta$ is a complex number, and $\\alpha=\\sqrt{1-|\\beta|^2}$ is a real number. \n",
    "\n",
    "In this way, we can conveniently parameterize the quantum state with a single parameter.\n"
   ]
  },
  {
   "cell_type": "markdown",
   "id": "a36dd264-78b2-4492-910a-cb73e1d30169",
   "metadata": {},
   "source": [
    "<div class=\"alert alert-block alert-success\">\n",
    "\n",
    "**Q2.1 Build an arbitrary quantum state using opflow class (1 pt)**  \n",
    "\n",
    "Write a function to return an arbitrary quantum state $|\\psi(\\beta)\\rangle = \\alpha |0\\rangle + \\beta |1\\rangle$, where $|\\alpha|^2 + |\\beta|^2 \\equiv 1$. Note $\\alpha$ is a real number and $\\beta$ is a complex number. \n",
    "    \n",
    "In Python, the imaginary part are represented with $j$. For example: $1j$, $1+2j$, etc. The norm of a complex number can be evaluated using the native \"abs\" function.\n",
    "</div>"
   ]
  },
  {
   "cell_type": "code",
   "execution_count": null,
   "id": "1828ca25-0f7b-4dbe-9d78-1facd3d5172d",
   "metadata": {},
   "outputs": [],
   "source": [
    "def arbitrary_state(beta):\n",
    "    ##### ==================================\n",
    "    # Write your solution in here.\n",
    "\n",
    "    \n",
    "    ##### =================================="
   ]
  },
  {
   "cell_type": "markdown",
   "id": "2201598b-3e67-471b-a4c4-ecd85bf3b6db",
   "metadata": {},
   "source": [
    "### Measurement\n",
    "\n",
    "In Exercise 1, we used the Statevector simulator to simulate an ideal quantum computer, and then used Bloch sphere to obtain the final evolved quantum state. However, in reality, we will not be able to obtain the quantum state as measurement automatically collapses the wave function. Instead, we sample the quantum state repeated to obtain a statistical description of the state.\n",
    "\n",
    "In opflow, the measurement can be easily done using the \".eval()\" method. We must also specify the computational basis as a parameter in the eval method."
   ]
  },
  {
   "cell_type": "code",
   "execution_count": null,
   "id": "a66722af-403c-456c-95dc-48df418c39ad",
   "metadata": {},
   "outputs": [],
   "source": [
    "Zero.eval('0')"
   ]
  },
  {
   "cell_type": "code",
   "execution_count": null,
   "id": "21ba4da4-05f2-4a87-b8b2-c2b22d826255",
   "metadata": {},
   "outputs": [],
   "source": [
    "Zero.eval('1')"
   ]
  },
  {
   "cell_type": "code",
   "execution_count": null,
   "id": "88720934-be9e-433f-9e3e-a458ade2c89a",
   "metadata": {},
   "outputs": [],
   "source": [
    "Minus.eval('0')"
   ]
  },
  {
   "cell_type": "code",
   "execution_count": null,
   "id": "e1860a0a-40b6-4e4e-b41a-a070a7b924d5",
   "metadata": {},
   "outputs": [],
   "source": [
    "Minus.eval('1')"
   ]
  },
  {
   "cell_type": "markdown",
   "id": "a3388716-e207-4103-8d5e-ab0ce74970b2",
   "metadata": {},
   "source": [
    "Make sure these results make sense to you before proceeding.\n",
    "\n",
    "All the states we wrote so far are the \"ket\" states. To represent the \"bra\" states, we simply put a tilde, \"~\" in front of the state."
   ]
  },
  {
   "cell_type": "code",
   "execution_count": null,
   "id": "1a2d0cf5-3982-40e6-87fb-f954c01c8a60",
   "metadata": {},
   "outputs": [],
   "source": [
    "~Zero"
   ]
  },
  {
   "cell_type": "code",
   "execution_count": null,
   "id": "b6b4d154-2c4a-4fd6-8b32-c16d5918fa3e",
   "metadata": {},
   "outputs": [],
   "source": [
    "~One"
   ]
  },
  {
   "cell_type": "code",
   "execution_count": null,
   "id": "18b19bd6-2a41-4556-8bd2-2ca57ceeee07",
   "metadata": {},
   "outputs": [],
   "source": [
    "~Plus"
   ]
  },
  {
   "cell_type": "markdown",
   "id": "601111ab-a12f-445b-aea8-c5c302eca869",
   "metadata": {},
   "source": [
    "Lastly but not the least, the expectation of the states, in the bra-ket notation, can be evaluated by concatenating the quantum state with \"@\" operand. By using this function, we can easily verify the bra-ket exercises that we did durinn lecture, and even more :)"
   ]
  },
  {
   "cell_type": "code",
   "execution_count": null,
   "id": "25488ddf-9c78-4f2d-ac5b-6771080c5459",
   "metadata": {},
   "outputs": [],
   "source": [
    "print(\"< 0 | 0 > =\",(~Zero @ Zero).eval())\n",
    "\n",
    "print(\"< 1 | 0 > =\",(~One @ Zero).eval())"
   ]
  },
  {
   "cell_type": "markdown",
   "id": "93c9a32e-5ab6-48b7-b2be-ec7051e5a010",
   "metadata": {},
   "source": [
    "For our arbitrary state, we can now measure them algebraically using opflow class, without doing simulation at all. "
   ]
  },
  {
   "cell_type": "code",
   "execution_count": null,
   "id": "5c6b6725-4805-4f68-9da4-35b27e7acbb7",
   "metadata": {},
   "outputs": [],
   "source": [
    "beta = 0.232 + 0.341j \n",
    "arbitrary_state(beta)"
   ]
  },
  {
   "cell_type": "code",
   "execution_count": null,
   "id": "05b1361b-6ebb-41cf-be3e-3280b94bc479",
   "metadata": {},
   "outputs": [],
   "source": [
    "beta = 0.232 + 0.341j \n",
    "\n",
    "print(\"< 1 | Ψ > =\",(~One @ arbitrary_state(beta)).eval())\n",
    "\n",
    "print(\"< 0 | Ψ > =\",(~Zero @ arbitrary_state(beta)).eval())\n",
    "\n",
    "print(\"< Ψ | Ψ > =\", (~arbitrary_state(beta) @ arbitrary_state(beta)).eval())"
   ]
  },
  {
   "cell_type": "markdown",
   "id": "3af358d0-d016-4fa9-82f5-60d2dcb8cc8b",
   "metadata": {},
   "source": [
    "<div class=\"alert alert-block alert-success\">\n",
    "\n",
    "**Q2.2 Write a function to compute the expectation value of $|\\langle 1 | \\psi(\\beta) \\rangle|^2 + |\\langle 0 | \\psi(\\beta) \\rangle|^2$ explicitly (1 pt)**  \n",
    "    \n",
    "Practice using opflow class. Your function return a same result for any arbitrary $\\psi(\\beta)$.\n",
    "\n",
    "</div>"
   ]
  },
  {
   "cell_type": "code",
   "execution_count": null,
   "id": "3653fd2a-19fe-4c3c-88d8-3b26389510bc",
   "metadata": {},
   "outputs": [],
   "source": [
    "def normality_check(beta):\n",
    "    ##### ==================================\n",
    "    # Write your solution in here.\n",
    "\n",
    "    \n",
    "    \n",
    "    ##### ==================================\n",
    "\n",
    "# Play with your beta parameter to see if this value changes.\n",
    "beta = 0.232 + 0.341j \n",
    "print(\"|< 1 | Ψ >|^2 + |< 0 | Ψ >|^2 =\", normality_check(beta))"
   ]
  },
  {
   "cell_type": "markdown",
   "id": "68395072-9af7-4219-baa7-0e772aed1b61",
   "metadata": {},
   "source": [
    "Congratulations! Now we just verified the normality of an arbitrary quantum state in two ways."
   ]
  },
  {
   "cell_type": "markdown",
   "id": "d75b3949-4ef4-4382-8cc7-73ef9c8732ab",
   "metadata": {
    "tags": []
   },
   "source": [
    "## 2.2 Bloch sphere representation\n",
    "\n",
    "Opflow library is probably the most convenient library introduced in Qiskit. It allows for algebraic manipulation of quantum states, expectation values, and more. Here, we will learn to use the opflow library at a basic level.\n",
    "\n"
   ]
  },
  {
   "cell_type": "markdown",
   "id": "2a7ee2a7-74e2-41dc-8f30-5bf35ad739db",
   "metadata": {},
   "source": [
    "We also learned the alternative geometric representation of a qubit using the Bloch sphere during lecture.\n",
    "\n",
    "$|\\psi\\rangle = \\cos \\frac{\\theta}{2} |0\\rangle+e^{i\\phi}\\sin \\frac{\\theta}{2} |1\\rangle$\n",
    "\n",
    "This visual representation can be very useful, as you saw in previous exercises. In particular, the $\\phi$ determines the relative phase in the transverse plane; the $\\theta$ determines the longtidinal angle with respective to $z$-axis.\n"
   ]
  },
  {
   "cell_type": "markdown",
   "id": "31238146-2fcb-45bf-8d45-2801f33335a5",
   "metadata": {},
   "source": [
    "<div class=\"alert alert-block alert-success\">\n",
    "\n",
    "**Q2.2 Conversion from Bra-ket representation to the Bloch sphere representation (1 pt)**  \n",
    "    \n",
    "Write a function to convert the braket representation $|\\psi(\\beta)\\rangle = \\alpha |0\\rangle + \\beta |1\\rangle$ to geometric Bloch representation. The function must return a list of [1, $\\theta$, $\\phi$].\n",
    "    \n",
    "In Python, the imaginary phase can be easily extracted with \"numpy.angle\" function.\n",
    "\n",
    "</div>"
   ]
  },
  {
   "cell_type": "code",
   "execution_count": null,
   "id": "e729fd9d-87fa-4da5-8ad9-4093b47ab569",
   "metadata": {},
   "outputs": [],
   "source": [
    "def convert_braket_to_Bloch(beta):\n",
    "    if beta == 0: # special case\n",
    "        return [1.0, 0, 0]\n",
    "    ##### ==================================\n",
    "    # Write your solution in here.\n",
    "\n",
    "    \n",
    "    \n",
    "    ##### ==================================\n",
    "    return [1.0, theta, phi]"
   ]
  },
  {
   "cell_type": "code",
   "execution_count": null,
   "id": "1763c186-a265-4f08-aefa-640f9c443124",
   "metadata": {},
   "outputs": [],
   "source": [
    "# Check \n",
    "beta = -1/sqrt(2)*1j\n",
    "plot_bloch_vector(convert_braket_to_Bloch(beta), coord_type='spherical', \n",
    "                  title=r\"$|\\psi\\rangle = \\frac{1}{\\sqrt{2}}|0\\rangle-\\frac{1}{\\sqrt{2}}i|0\\rangle$\")"
   ]
  },
  {
   "cell_type": "code",
   "execution_count": null,
   "id": "ddca031e-71db-40b4-9e68-ef04ef192273",
   "metadata": {},
   "outputs": [],
   "source": [
    "# Play with more values of beta to see if it matches with your expectation\n",
    "beta = -1/sqrt(10)*1j\n",
    "plot_bloch_vector(convert_braket_to_Bloch(beta), coord_type='spherical', \n",
    "                  title=r\"$|\\psi\\rangle = \\sqrt{1-|\\beta|^2}|0\\rangle+\\beta|0\\rangle$ in Spherical\")"
   ]
  },
  {
   "cell_type": "markdown",
   "id": "45061512-fd1a-4999-8dea-4765359f6f90",
   "metadata": {},
   "source": [
    "### Expectation value"
   ]
  },
  {
   "cell_type": "markdown",
   "id": "83415883-d2cf-4fe8-857e-25878035a6a2",
   "metadata": {},
   "source": [
    "Besides represent the quantum state on the Bloch sphere using spherical coordinates $\\theta$ and $\\phi$, we can also represent it with Cartesian coordinates, i.e., $(x, y, z)$. To do so, we need to evaluate the expectation value of the state in $x$, $y$ and $z$. Going back to bra-ket notation, to compute the expectation value of a state, we evaluate\n",
    "\n",
    "$\\langle Z\\rangle = \\langle\\psi | Z | \\psi\\rangle = \\langle\\psi \\big(| 0\\rangle\\langle 0 | - | 1\\rangle\\langle 1 \\big)|\\psi\\rangle= \\langle\\psi | 0\\rangle\\langle 0 |\\psi\\rangle-\\langle\\psi | 1\\rangle\\langle 1 |\\psi\\rangle = |\\langle 0 | \\psi \\rangle|^2 - |\\langle 1 | \\psi \\rangle|^2$\n",
    "\n",
    "It is important to know that the expectation value must always be real. In opflow class, these Pauli operators, such as X, Y, Z, can be used directly from the opflow class"
   ]
  },
  {
   "cell_type": "code",
   "execution_count": null,
   "id": "c75e94fa-a876-4e4f-975f-875735f8c607",
   "metadata": {},
   "outputs": [],
   "source": [
    "X"
   ]
  },
  {
   "cell_type": "code",
   "execution_count": null,
   "id": "166c4814-da55-4415-a7e4-94d98ab52cc4",
   "metadata": {},
   "outputs": [],
   "source": [
    "Y"
   ]
  },
  {
   "cell_type": "code",
   "execution_count": null,
   "id": "ff28caa0-893a-4db1-9e81-610f9dddf0fe",
   "metadata": {},
   "outputs": [],
   "source": [
    "Z"
   ]
  },
  {
   "cell_type": "markdown",
   "id": "13879b65-cf81-467f-aa67-b931634f0156",
   "metadata": {},
   "source": [
    "<div class=\"alert alert-block alert-success\">\n",
    "\n",
    "**Q2.3 Write a function to obtain the expectation $\\langle Z \\rangle$ for the arbitrary function $|\\psi(\\beta)\\rangle$ (1 pt)**  \n",
    "    \n",
    "Use quantum gate operators from the opflow class and your \"arbitrary_state\" function to compute the expection. Note the opflow gate operator can be composited with the state in the same way using the \"@\" operand.\n",
    "</div>"
   ]
  },
  {
   "cell_type": "code",
   "execution_count": null,
   "id": "2c518ec6-5d3b-4f64-a3bf-dd5f5fb0bc40",
   "metadata": {},
   "outputs": [],
   "source": [
    "def expectation_Z(beta):\n",
    "    ##### ==================================\n",
    "    # Write your solution in here. There are more than one solution here...\n",
    "\n",
    "    \n",
    "    \n",
    "    ##### =================================="
   ]
  },
  {
   "cell_type": "markdown",
   "id": "4a7fee01-8a81-49a8-8abf-56bc174d298d",
   "metadata": {},
   "source": [
    "Compare your expectation with your bloch sphere, does it make sense to you?"
   ]
  },
  {
   "cell_type": "code",
   "execution_count": null,
   "id": "029a339f-9e92-49cf-ae53-d1988e72f73d",
   "metadata": {},
   "outputs": [],
   "source": [
    "print(\"<Z> =\", expectation_Z(beta))"
   ]
  },
  {
   "cell_type": "markdown",
   "id": "4243f0e5-a353-419c-8ef8-2abf0698872d",
   "metadata": {},
   "source": [
    "Similiarly, one can write the expectation function for $\\langle X \\rangle$ and $\\langle Y \\rangle$. However, since the computational bases that we are using are $|0\\rangle$ and $|1\\rangle$, i.e. in the $Z$-axis, we have to rotate the quantum state properly in order to measure their expectations. \n",
    "\n",
    "For the expectation $\\langle X \\rangle$, you may have guessed, we need to use a Hadamard gate (note $H^\\dagger = H$): \n",
    "\n",
    "$\\langle X\\rangle = \\langle\\psi | X | \\psi\\rangle = \\langle\\psi | H Z H | \\psi\\rangle = \\langle H \\psi \\big(| 0\\rangle\\langle 0 | - | 1\\rangle\\langle 1 \\big)| H \\psi\\rangle= \\langle H \\psi | 0\\rangle\\langle 0 | H \\psi\\rangle-\\langle H \\psi | 1\\rangle\\langle 1 | H \\psi\\rangle = |\\langle 0 | H \\psi \\rangle|^2 - |\\langle 1 | H \\psi \\rangle|^2$\n",
    "\n",
    "For the expectation $\\langle Y \\rangle$, it is a bit more complicated, but we will need to use a Hadamard and a $pi/2$ phase rotation gate, i.e. the S gate.\n",
    "\n",
    "$\\langle Y\\rangle = \\langle\\psi | Y | \\psi\\rangle = \\langle\\psi | (H S^\\dagger)^\\dagger  Z (H S^\\dagger) | \\psi\\rangle = \\cdots = |\\langle 0 | H S^\\dagger \\psi \\rangle|^2 - |\\langle 1 | H S^\\dagger \\psi \\rangle|^2$"
   ]
  },
  {
   "cell_type": "markdown",
   "id": "02f445a8-20f9-4c8d-ad6d-0f6bb68d7d46",
   "metadata": {},
   "source": [
    "<div class=\"alert alert-block alert-success\">\n",
    "\n",
    "**Q2.4 Write a function to obtain the expectation $\\langle X \\rangle$ and $\\langle Y \\rangle$ for the arbitrary function $|\\psi(\\beta)\\rangle$ (1 pt)**  \n",
    "    \n",
    "</div>"
   ]
  },
  {
   "cell_type": "code",
   "execution_count": null,
   "id": "0254adf5-9226-461f-a6b9-b8fb88c6ab6e",
   "metadata": {},
   "outputs": [],
   "source": [
    "def expectation_X(beta):\n",
    "    ##### ==================================\n",
    "    # Write your solution in here. There are more than one solution here...\n",
    "\n",
    "    \n",
    "    \n",
    "    ##### ==================================\n",
    "    \n",
    "def expectation_Y(beta):\n",
    "    ##### ==================================\n",
    "    # Write your solution in here. There are more than one solution here...\n",
    "\n",
    "    \n",
    "    \n",
    "    ##### =================================="
   ]
  },
  {
   "cell_type": "markdown",
   "id": "d726c7a4-52aa-46e6-8839-84eccffc7b0d",
   "metadata": {},
   "source": [
    "<div class=\"alert alert-block alert-success\">\n",
    "\n",
    "**Q2.5 Write a function to obtain the cartesian coordinate in the Bloch sphere for the arbitrary function $|\\psi(\\beta)\\rangle$ (1 pt)**  \n",
    "    \n",
    "Use the three expectation functions that we built earlier, write a function that return a list of three real numbers, [x, y, z]. Hint: The real part of a complex number can be extracted with \".real\" attribute. For example, (1+2j).real = 1.\n",
    "    \n",
    "</div>"
   ]
  },
  {
   "cell_type": "code",
   "execution_count": null,
   "id": "fb68b511-42ae-4225-8296-dc54e244579c",
   "metadata": {},
   "outputs": [],
   "source": [
    "def get_cartesian_coordinate(beta):\n",
    "    ##### ==================================\n",
    "    # Write your solution in here. There are more than one solution here...\n",
    "\n",
    "    \n",
    "    \n",
    "    ##### ==================================\n",
    "    return [x, y, z]"
   ]
  },
  {
   "cell_type": "code",
   "execution_count": null,
   "id": "8849677e-730d-49cf-a08f-ed063f467d9c",
   "metadata": {},
   "outputs": [],
   "source": [
    "# Play with more values of beta to see if it matches with your previous Bloch sphere\n",
    "beta = -1/sqrt(10)*1j\n",
    "plot_bloch_vector(get_cartesian_coordinate(beta), coord_type='cartesian', \n",
    "                  title=r\"$|\\psi\\rangle = \\sqrt{1-|\\beta|^2}|0\\rangle+\\beta|0\\rangle$ in Cartesian\")"
   ]
  },
  {
   "cell_type": "markdown",
   "id": "dd9ba4de-10db-4731-86e6-330a6ef48d8f",
   "metadata": {},
   "source": [
    "Hooray! At this point, you should see that we verify the Braket and Bloch representations with an arbitrary quantum state that we built!"
   ]
  },
  {
   "cell_type": "markdown",
   "id": "1fffe9c3-3632-45c4-976a-e339092d8d03",
   "metadata": {},
   "source": [
    "## 2.3 Introduction to statistical measurement\n",
    "\n",
    "As we discussed earlier, practical measurement comes from statistical evaluation of the quantum circuit. In this module, we introduce two major simulator backend from Qiskit.Aer library. \n",
    "\n",
    "The **Statevector simulator** evaluates the quantum state exactly and is able to produce a statevector that can be visualized using Bloch sphere. This simulator serves an educational purposes and allows for theoretical testing. On the other hand, the **QASM simulator** simulates a perfect quantum computer. The measurement is obtained as statistically by repeating the quantum circuit thousands of times.\n",
    "\n",
    "Here, we write a function to probe the arbitrary quantum state using the QASM simulator."
   ]
  },
  {
   "cell_type": "code",
   "execution_count": null,
   "id": "3a5fbeb3-1ec9-497e-a31b-18cfbc2282c4",
   "metadata": {},
   "outputs": [],
   "source": [
    "# Let's define the quantum simulator\n",
    "\n",
    "sv_simulator = Aer.get_backend(\"statevector_simulator\")\n",
    "\n",
    "qasm_simulator = Aer.get_backend(\"qasm_simulator\")"
   ]
  },
  {
   "cell_type": "markdown",
   "id": "01e12fb9-3b59-46fc-9656-6795045494df",
   "metadata": {},
   "source": [
    "To achieve our goal, we need to find a way to efficiently initialize our quantum state on the circuit. Luckily, in Qiskit we can use the \"initialize\" method. See the example below to produce a $|-\\rangle$ state. Note here we must measure the result explictly using the \"measure_all\" function. Recall, the plus state is\n",
    "\n",
    "$|-\\rangle = \\frac{1}{\\sqrt{2}}|0\\rangle - \\frac{1}{\\sqrt{2}}|1\\rangle$   "
   ]
  },
  {
   "cell_type": "code",
   "execution_count": 2,
   "id": "6fc4e84e-1384-4f6a-9485-5dbadcda429e",
   "metadata": {},
   "outputs": [
    {
     "data": {
      "image/png": "[encoded data removed]",
      "text/plain": [
       "<Figure size 496.776x200.667 with 1 Axes>"
      ]
     },
     "execution_count": 2,
     "metadata": {},
     "output_type": "execute_result"
    }
   ],
   "source": [
    "this_circ = QuantumCircuit(1)\n",
    "this_circ.initialize([1/sqrt(2), -1/sqrt(2)])\n",
    "this_circ.measure_all()\n",
    "this_circ.draw('mpl')"
   ]
  },
  {
   "cell_type": "markdown",
   "id": "5c93c15d-15c3-4f6b-89f3-23ef460e763d",
   "metadata": {},
   "source": [
    "Here, we run the quantum circuit using the QASM simulator with 1024 measurements (or shots) and visualize measurement counts in histogram using \"plot_histogram\".\n",
    "\n",
    "The QASM simulator here samples the quantum circuit 1024 times, and each time the quantum state in the circuit has to collapse in the measurement, giving a single count in the measurement basis, either $|0\\rangle$ or $|1\\rangle$. By sampling enough shots, we can expect the histogram distribution to agree with quantum state.\n"
   ]
  },
  {
   "cell_type": "code",
   "execution_count": null,
   "id": "f9debec8-b10a-4ab1-9612-6c7a35c1b486",
   "metadata": {},
   "outputs": [],
   "source": [
    "shots = 1024\n",
    "\n",
    "counts = execute(this_circ, backend=qasm_simulator, shots=shots).result().get_counts()\n",
    "\n",
    "print(counts)\n",
    "\n",
    "plot_histogram(counts, title=r\"Measuring the $|+\\rangle$ state\")"
   ]
  },
  {
   "cell_type": "markdown",
   "id": "934823b5-55e4-4519-b74c-522a6a4d0b66",
   "metadata": {},
   "source": [
    "Here, the \"counts\" is returned as a Python dictionary indicating the counts for each computational basis.\n",
    "\n",
    "Note that in Qiskit, the number of shots information is automatically converted into probability information by dividing the total number of shots. You should also observe that the relative phase information is lost in our measurement.\n",
    "\n",
    "Now, try increase the number of shots to see if you can obtain the expected result. Or you can try decrease the number of shots to see if the measurement results deteriotates. "
   ]
  },
  {
   "cell_type": "markdown",
   "id": "caf4a721-d3c9-412d-95a5-2d63173ec794",
   "metadata": {},
   "source": [
    "<div class=\"alert alert-block alert-success\">\n",
    "\n",
    "**Q2.6 Build an arbitrary quantum state on the quantum circuit (1 pt)**  \n",
    "\n",
    "Now write your own function to construct an arbitrary quantum state $|\\psi(\\alpha)\\rangle = \\alpha |0\\rangle + \\beta |1\\rangle$ on the **quantum circuit**. Here, you will use the circuit.initialize like the example above. Your function should return a quantum circuit object.\n",
    "</div>"
   ]
  },
  {
   "cell_type": "code",
   "execution_count": null,
   "id": "83228e0b-e83b-44b5-9b0c-d078813741ff",
   "metadata": {},
   "outputs": [],
   "source": [
    "def contruct_arbitrary_state_on_circuit(beta):\n",
    "    ##### ==================================\n",
    "    # Write your solution in here. Here you do not need to append the measurement part in this function\n",
    "\n",
    "    \n",
    "    \n",
    "    ##### ==================================\n",
    "    return circuit"
   ]
  },
  {
   "cell_type": "markdown",
   "id": "d5292ec4-157c-4cef-b161-8a005ff5c21b",
   "metadata": {},
   "source": [
    "Now you can check your function is correct by measuring it. Does it make sense to you? Try increase or decrease your number of shots."
   ]
  },
  {
   "cell_type": "code",
   "execution_count": null,
   "id": "01863052-33bc-43e8-b361-f41fd1b6e092",
   "metadata": {},
   "outputs": [],
   "source": [
    "shots = 81920\n",
    "\n",
    "beta = 0.213\n",
    "this_circuit = contruct_arbitrary_state_on_circuit(beta)\n",
    "this_circuit.measure_all()\n",
    "\n",
    "counts = execute(this_circuit, backend=qasm_simulator, shots=shots).result().get_counts()\n",
    "\n",
    "print(\"Probability in |1> basis =\", beta**2)\n",
    "plot_histogram(counts, title=r\"Measuring the arbitrary $|\\psi(\\beta)\\rangle$ state\")\n"
   ]
  },
  {
   "cell_type": "markdown",
   "id": "edd8df58-a778-40ed-b364-6a9f8454d2d8",
   "metadata": {},
   "source": [
    "<div class=\"alert alert-block alert-success\">\n",
    "\n",
    "**Q2.7 Measure the expectation value $\\langle Z \\rangle$ of an arbitrary quantum state on the quantum circuit (1 pt)**  \n",
    "\n",
    "From what we learned before, now write your own function to compute the $\\langle Z \\rangle$ expectation of $|\\psi(\\alpha)\\rangle = \\alpha |0\\rangle + \\beta |1\\rangle$ on the **quantum circuit** using the QASM simulator. The function takes two parameters, \"beta\" and \"shots\", and returns a single real number that is the expectation value. Recall\n",
    "\n",
    "$\\langle Z\\rangle = \\langle\\psi | Z | \\psi\\rangle = \\langle\\psi \\big(| 0\\rangle\\langle 0 | - | 1\\rangle\\langle 1 \\big)|\\psi\\rangle= \\langle\\psi | 0\\rangle\\langle 0 |\\psi\\rangle-\\langle\\psi | 1\\rangle\\langle 1 |\\psi\\rangle = |\\langle 0 | \\psi \\rangle|^2 - |\\langle 1 | \\psi \\rangle|^2$\n",
    "    \n",
    "Hint: in Python, the dictionary value can be accessed like an element. For example, counts[\"0\"], counts[\"1\"], etc.\n",
    "</div>"
   ]
  },
  {
   "cell_type": "code",
   "execution_count": null,
   "id": "81d9979d-3869-479d-bdd5-8c543a97b916",
   "metadata": {},
   "outputs": [],
   "source": [
    "def expectation_Z_with_QASM(beta, shots):\n",
    "    ##### ==================================\n",
    "    # Write your solution in here. Here\n",
    "\n",
    "    \n",
    "    \n",
    "    ##### ==================================\n",
    "    return expectation"
   ]
  },
  {
   "cell_type": "markdown",
   "id": "97788c96-08b0-45b1-a7bc-0d6f77498c19",
   "metadata": {},
   "source": [
    "Make sure you cross check with opflow results."
   ]
  },
  {
   "cell_type": "code",
   "execution_count": null,
   "id": "881768e4-c952-408d-bc87-06a26f8a0b7b",
   "metadata": {},
   "outputs": [],
   "source": [
    "beta = -1/sqrt(2)*1j\n",
    "shots = 81920\n",
    "\n",
    "print(\"Expectation <Z> with QASM =\", expectation_Z_with_QASM(beta, shots=shots))\n",
    "print(\"Expectation <Z> with opflow =\", expectation_Z(beta))"
   ]
  },
  {
   "cell_type": "markdown",
   "id": "00da72e2-005d-42c2-9cbc-b34550715b93",
   "metadata": {},
   "source": [
    "<div class=\"alert alert-block alert-success\">\n",
    "\n",
    "**Submission instructions**  \n",
    "    \n",
    "When you are ready, please run the following cells and email your Jupyter notebooks to meijian.li@usc.es\n",
    "</div>"
   ]
  },
  {
   "cell_type": "code",
   "execution_count": null,
   "id": "a7f3ca87-e5de-4a1b-8fca-b4a1c80b54f6",
   "metadata": {},
   "outputs": [],
   "source": [
    "import qiskit.tools.jupyter\n",
    "%qiskit_version_table"
   ]
  },
  {
   "cell_type": "markdown",
   "id": "32ee6e19-ef28-4511-a65a-13dae060dcd3",
   "metadata": {},
   "source": [
    "<div class=\"alert alert-block alert-success\">\n",
    "\n",
    "**Summary**  \n",
    "    \n",
    "In this Jupyter notebook, we learned to use the opflow library to manipulate quantum algebra and truly simulate an ideal quantum computer using the QASM simulator. We should understand that in practical simulation there are also qubit imperfections and measurement noises besides statistical uncertainties.\n",
    "    \n",
    "For interested readers, one can continue to write a function to extract the Cartesian coordinates of an arbitrary state using quantum circuit. Expectation evaulations are the key theme in today's quantum computing research. Various approaches in the family of Variational Quantum Solvers are applied widely in many disciplines of science.\n",
    "   \n",
    "* Farhi, Goldstone, Gutmann, [A Quantum Approximate Optimization Algorithm](https://arxiv.org/abs/1411.4028)\n",
    "* Romero, Babbush, McClean, et. al., [Strategies for quantum computing molecular energies using the unitary coupled cluster ansatz](https://arxiv.org/abs/1701.02691)\n",
    "\n",
    "Author of this exercise: Wenyang Qian   \n",
    "Contact me for any question: qian.wenyang@usc.es\n",
    "</div>"
   ]
  },
  {
   "cell_type": "markdown",
   "id": "9c6987fd-789b-4b48-909f-0e397d819410",
   "metadata": {},
   "source": []
  }
 ],
 "metadata": {
  "kernelspec": {
   "display_name": "Python 3",
   "language": "python",
   "name": "python3"
  },
  "language_info": {
   "codemirror_mode": {
    "name": "ipython",
    "version": 3
   },
   "file_extension": ".py",
   "mimetype": "text/x-python",
   "name": "python",
   "nbconvert_exporter": "python",
   "pygments_lexer": "ipython3",
   "version": "3.9.6"
  }
 },
 "nbformat": 4,
 "nbformat_minor": 5
}
