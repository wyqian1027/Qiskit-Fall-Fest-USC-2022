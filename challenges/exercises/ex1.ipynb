{
 "cells": [
  {
   "cell_type": "markdown",
   "id": "44576a24-491a-4f3e-a7e8-b341c44bb35b",
   "metadata": {},
   "source": [
    "# Exercise 1. Simple Quantum Adder"
   ]
  },
  {
   "cell_type": "code",
   "execution_count": null,
   "id": "8a748140-4415-46f1-bf99-4f0a7ce9e7ba",
   "metadata": {},
   "outputs": [],
   "source": [
    "from qiskit import QuantumCircuit, execute, Aer\n",
    "from qiskit.visualization import plot_bloch_multivector, array_to_latex\n",
    "from math import pi"
   ]
  },
  {
   "cell_type": "markdown",
   "id": "262b7f76-3b2a-444f-b822-1b2334bb114c",
   "metadata": {},
   "source": [
    "<div class=\"alert alert-block alert-success\">\n",
    "\n",
    "**Readme**  \n",
    "    \n",
    "There are 9 questions (marked in Green) in total in this Jupyter notebook. These questions will teach you how to build quantum circuits and we will explore both classical addition and quantum addition using quantum circuits.\n",
    "</div>"
   ]
  },
  {
   "cell_type": "markdown",
   "id": "7605c003-282e-4d2c-880b-36457ecac565",
   "metadata": {},
   "source": [
    "## 1.1 Introduction to Quantum Circuit\n",
    "Quantum circuits are models for quantum computation in which a computation is a sequence of quantum gates. Quantum gates often represent rotations on the Bloch sphere. Let's take a look at some of the popular quantum gates.\n",
    "\n"
   ]
  },
  {
   "cell_type": "markdown",
   "id": "94d259fc-b1e8-4b5e-adc7-c1469bd70a72",
   "metadata": {},
   "source": [
    "### X gate \n",
    "The X-gate is represented by the Pauli-X matrix:\n",
    "\n",
    "$X = \\begin{pmatrix}\n",
    "0 & 1 \\\\\n",
    "1 & 0 \\\\\n",
    "\\end{pmatrix}$\n",
    "\n",
    "An X gate equates to a rotation around the X-axis of the Bloch sphere by $\\pi$ radians. It maps $|0\\rangle$ to $|1\\rangle$ and $|1\\rangle$ to $|0\\rangle$. It is the quantum equivalent of the NOT gate for classical computers and is sometimes called a bit-flip."
   ]
  },
  {
   "cell_type": "code",
   "execution_count": null,
   "id": "c7d23f15-f601-4bf1-84af-576c786430dc",
   "metadata": {},
   "outputs": [],
   "source": [
    "x_gate = QuantumCircuit(1) # Create a quantum circuit with 1 qubit\n",
    "x_gate.x(0)\n",
    "x_gate.draw(output='mpl')"
   ]
  },
  {
   "cell_type": "markdown",
   "id": "81e71df6-8447-4da7-a762-998d524c88a2",
   "metadata": {},
   "source": [
    "The Aer library provides various quantum backends to evaluate the quantum state. Here, we use the Statevector simulator to visualize the quantum state on ideal quantum computer. "
   ]
  },
  {
   "cell_type": "code",
   "execution_count": null,
   "id": "ffee281f-e4b8-46a1-9955-82b8bc30a7fd",
   "metadata": {},
   "outputs": [],
   "source": [
    "backend = Aer.get_backend('statevector_simulator')\n",
    "result = execute(x_gate, backend).result().get_statevector()\n",
    "plot_bloch_multivector(result)"
   ]
  },
  {
   "cell_type": "markdown",
   "id": "9f2d4628-03d9-4181-b5c3-ac0b73448452",
   "metadata": {},
   "source": [
    "### Hadamard gate (H gate)\n",
    "A Hadamard gate represents a rotation of $\\pi$ about the axis that is in the middle of the X-axis and Z-axis.\n",
    "It maps the basis state $|0\\rangle$ to $\\frac{|0\\rangle + |1\\rangle}{\\sqrt{2}}$, which means that a measurement will have equal probabilities of being `1` or `0`, creating a 'superposition' of states. This state is also written as $|+\\rangle$. What the Hadamard does is to transform between the $|0\\rangle$ $|1\\rangle$ and the $|+\\rangle$ $|-\\rangle$ base. \n",
    "\n",
    "$H = \\frac{1}{\\sqrt{2}}\\begin{pmatrix}\n",
    "1 & 1 \\\\\n",
    "1 & -1 \\\\\n",
    "\\end{pmatrix}$"
   ]
  },
  {
   "cell_type": "code",
   "execution_count": null,
   "id": "214a54ff-f46a-46ca-bbb7-c44a5ff47e7d",
   "metadata": {},
   "outputs": [],
   "source": [
    "# Let's do an H-gate on a |0> qubit\n",
    "h_gate = QuantumCircuit(1)\n",
    "h_gate.h(0)\n",
    "h_gate.draw(output='mpl')"
   ]
  },
  {
   "cell_type": "code",
   "execution_count": null,
   "id": "0826ea8d-3b7d-4902-a21c-2cb2e927e055",
   "metadata": {},
   "outputs": [],
   "source": [
    "# Let's see the result\n",
    "backend = Aer.get_backend('statevector_simulator')\n",
    "result = execute(h_gate, backend).result().get_statevector()\n",
    "plot_bloch_multivector(result)"
   ]
  },
  {
   "cell_type": "markdown",
   "id": "8ffaf4cc-6e64-41e8-9825-7621b344c7f4",
   "metadata": {},
   "source": [
    "### Phase gate (P gate)\n",
    "\n",
    "The phase gate is a single-qubit rotation gate about the Z axis. It is a crucial quantum gate generating the relative phase between $|0\\rangle$ and $|1\\rangle$. It can be implemented virtually in hardware via framechanges (i.e. at zero error and duration). Unlike the Hadamard and X gate, the phase gate also takes in a rotation angle $\\lambda$ (in radians).\n",
    "\n",
    "$P(\\lambda) = \\begin{pmatrix}\n",
    "1 & 0 \\\\\n",
    "0 & e^{i\\lambda} \\\\\n",
    "\\end{pmatrix}$\n",
    "\n",
    "Note, the phase gate is a generalized gate for several commonly used quantum gates:\n",
    "\n",
    "$P(\\lambda =\\pi) = Z\\\\P(\\lambda =\\pi/2)= S\\\\P(\\lambda =\\pi/4)= T$\n"
   ]
  },
  {
   "cell_type": "code",
   "execution_count": null,
   "id": "96260cd1-b311-41fc-bf49-e6df5bb0e1c2",
   "metadata": {},
   "outputs": [],
   "source": [
    "# To make the problem more interesting, let's do an P-gate on a |+> state\n",
    "p_gate = QuantumCircuit(1)\n",
    "p_gate.h(0)\n",
    "p_gate.p(pi/2, 0)\n",
    "p_gate.draw(output='mpl')"
   ]
  },
  {
   "cell_type": "code",
   "execution_count": null,
   "id": "dd820ba0-5abd-446d-9499-12c548b47a2e",
   "metadata": {},
   "outputs": [],
   "source": [
    "# Let's see the result\n",
    "backend = Aer.get_backend('statevector_simulator')\n",
    "result = execute(p_gate, backend).result().get_statevector()\n",
    "plot_bloch_multivector(result)"
   ]
  },
  {
   "cell_type": "code",
   "execution_count": null,
   "id": "35f6f014-3e4f-4ee2-975e-4d630bab2eb8",
   "metadata": {},
   "outputs": [],
   "source": [
    "array_to_latex(result)"
   ]
  },
  {
   "cell_type": "markdown",
   "id": "96d19c50-35f5-48e5-8a39-5489d1adc668",
   "metadata": {},
   "source": [
    "### Controlled-NOT gate (CX, CNOT gate)\n",
    "\n",
    "The controlled NOT (or CNOT or CX) gate acts on two qubits. It performs the NOT operation (equivalent to applying an X gate) on the second qubit only when the first qubit is $|1\\rangle$ and otherwise leaves it unchanged. \n",
    "\n",
    "$CX = \\begin{pmatrix}\n",
    "1 & 0 & 0 & 0  \\\\\n",
    "0 & 1 & 0 & 0 \\\\\n",
    "0 & 0 & 0 & 1 \\\\\n",
    "0 & 0 & 1 & 0 \\\\\n",
    "\\end{pmatrix}$\n",
    "\n",
    "Note: Qiskit numbers the bits in a string from right to left."
   ]
  },
  {
   "cell_type": "code",
   "execution_count": null,
   "id": "fba1829c-6b7a-4577-8157-6cb358880afe",
   "metadata": {},
   "outputs": [],
   "source": [
    "cx_gate = QuantumCircuit(2)\n",
    "cx_gate.cx(0,1)\n",
    "cx_gate.draw(output='mpl')"
   ]
  },
  {
   "cell_type": "markdown",
   "id": "aed74c0a-a21c-43e2-b64e-9b0cfe27ab50",
   "metadata": {},
   "source": [
    "Notice in the circuit above, the 0th qubit is indicated by $q_0$ and 1st qubit is indicated by $q_1$."
   ]
  },
  {
   "cell_type": "code",
   "execution_count": null,
   "id": "e6b229eb-f138-47d0-8921-824e9c42b664",
   "metadata": {},
   "outputs": [],
   "source": [
    "# Let's see the result\n",
    "backend = Aer.get_backend('statevector_simulator')\n",
    "result = execute(cx_gate, backend).result().get_statevector()\n",
    "plot_bloch_multivector(result)"
   ]
  },
  {
   "cell_type": "markdown",
   "id": "45e63296-73ee-453e-a8cd-b05511c6fa62",
   "metadata": {},
   "source": [
    "<div class=\"alert alert-block alert-success\">\n",
    "\n",
    "**Q1.1 Building your first quantum circuit (1 pt)**  \n",
    "    \n",
    "Build a quantum circuit that applies CX gate on $|01\\rangle$, with control on the 0th qubit. Pay attention to the quantum state of qubit 1.   \n",
    "</div>"
   ]
  },
  {
   "cell_type": "code",
   "execution_count": null,
   "id": "fc0e7cc1-5abb-4312-a62a-0c728967a9c3",
   "metadata": {},
   "outputs": [],
   "source": [
    "circuit = QuantumCircuit(2)\n",
    "##### ==================================\n",
    "# Write your solution in here.\n",
    "\n",
    "\n",
    "##### ==================================\n",
    "backend = Aer.get_backend('statevector_simulator')\n",
    "result = execute(circuit, backend).result().get_statevector()\n",
    "plot_bloch_multivector(result)"
   ]
  },
  {
   "cell_type": "markdown",
   "id": "66be79e7-e1ac-4075-8c68-caacc93384d4",
   "metadata": {},
   "source": [
    "<div class=\"alert alert-block alert-success\">\n",
    "\n",
    "**Q1.2 Building your second quantum circuit (1 pt)**  \n",
    "    \n",
    "Build a quantum circuit that applies CX gate on $|01\\rangle$, with control on the 0th qubit. Pay attention to the quantum state of qubit 1.   \n",
    "</div>"
   ]
  },
  {
   "cell_type": "code",
   "execution_count": null,
   "id": "6768236b-4243-49ef-b492-c341a4c5427c",
   "metadata": {},
   "outputs": [],
   "source": [
    "circuit = QuantumCircuit(2)\n",
    "##### ==================================\n",
    "# Write your solution in here.\n",
    "\n",
    "\n",
    "##### ==================================\n",
    "backend = Aer.get_backend('statevector_simulator')\n",
    "result = execute(circuit, backend).result().get_statevector()\n",
    "plot_bloch_multivector(result)"
   ]
  },
  {
   "cell_type": "markdown",
   "id": "bd55a835-28d7-43c6-b9e1-987738dbcb6b",
   "metadata": {},
   "source": [
    "### CCX gate (Toffoli gate)\n",
    "\n",
    "The CCX gate (controlled controlled X Gate) is also called a Toffoli gate. The CCX gate is a three-bit gate, with two controls and one target as their input and output. If the first two bits are in the state $|1\\rangle$, it applies a Pauli-X (or NOT) on the third bit. Otherwise, it does nothing. Convince yourself that the matrix dimension is 8.\n",
    "\n",
    "$CCX = \\begin{pmatrix}\n",
    "1 & 0 & 0 & 0 & 0 & 0 & 0 & 0 \\\\\n",
    "0 & 1 & 0 & 0 & 0 & 0 & 0 & 0 \\\\\n",
    "0 & 0 & 1 & 0 & 0 & 0 & 0 & 0 \\\\\n",
    "0 & 0 & 0 & 1 & 0 & 0 & 0 & 0 \\\\\n",
    "0 & 0 & 0 & 0 & 1 & 0 & 0 & 0 \\\\\n",
    "0 & 0 & 0 & 0 & 0 & 1 & 0 & 0 \\\\\n",
    "0 & 0 & 0 & 0 & 0 & 0 & 0 & 1 \\\\\n",
    "0 & 0 & 0 & 0 & 0 & 0 & 1 & 0 \\\\\n",
    "\\end{pmatrix}$"
   ]
  },
  {
   "cell_type": "code",
   "execution_count": null,
   "id": "3c9aeb94-ed3d-479d-941b-37ff46aa0a89",
   "metadata": {},
   "outputs": [],
   "source": [
    "ccx_gate = QuantumCircuit(3)\n",
    "ccx_gate.ccx(0,1,2)\n",
    "ccx_gate.draw(output='mpl')"
   ]
  },
  {
   "cell_type": "markdown",
   "id": "307c9024-7b22-44e7-8058-f1545df6f998",
   "metadata": {},
   "source": [
    "## 1.2 Classical Addition using Quantum Circuit"
   ]
  },
  {
   "attachments": {
    "0aad5a45-5a90-495a-a5aa-337515f8824e.png": {
     "image/png": "[encoded data removed]"
    }
   },
   "cell_type": "markdown",
   "id": "87be79fc-302e-4a86-842b-fb09bc6e239a",
   "metadata": {},
   "source": [
    "Addition is one of the oldest computation and it has many implementations. In the classical computer, the integers are represented as binary numbers (or bit strings). For example, \n",
    "\n",
    "$ 2 = 10 $   \n",
    "$ 5 = 101 $   \n",
    "$ 10 = 1010 $   \n",
    "\n",
    "By encoding integers as sequence of 0s and 1s, it makes a perfect application in quantum computing. In this exercise, we will look at the implementation of classical addition on the quantum circuit. In particular, we consider two nonnegative integers $a$ and $b$, whose values can be either 0 or 1.\n",
    "\n",
    "On the quantum circuit, we can represent them as quantum states $|a\\rangle$ and $|b\\rangle$, and build a two-qubit circuit for quantum addition.\n",
    "\n",
    "![image.png](attachment:0aad5a45-5a90-495a-a5aa-337515f8824e.png)"
   ]
  },
  {
   "cell_type": "markdown",
   "id": "8046622c-8a00-419a-9475-9db2abf0c219",
   "metadata": {},
   "source": [
    "<div class=\"alert alert-block alert-success\">\n",
    "\n",
    "**Q1.3 Build your integer encoding function (1 pt)**  \n",
    "    \n",
    "Before we build an addition algorithm, it is important to build an integer encoding function on the circuit. Here, Python functions are particularly useful. For simplicity, we restrict integers to either 0 or 1. The following function returns the quantum circuit with the encoded integer on the qubit.\n",
    "</div>"
   ]
  },
  {
   "cell_type": "code",
   "execution_count": null,
   "id": "b1e285a1-21a8-4c4c-914e-eaf272330097",
   "metadata": {},
   "outputs": [],
   "source": [
    "def encode_integer(circuit, qubit, integer):\n",
    "    ##### ==================================\n",
    "    # Write your solution in here.\n",
    "    \n",
    "    \n",
    "    ##### ==================================\n",
    "    return circuit"
   ]
  },
  {
   "cell_type": "markdown",
   "id": "20e911c9-ec38-4ac7-b9e0-e7a196ea8b97",
   "metadata": {},
   "source": [
    "Binary addition follows the truth table as follows:\n",
    "| a        | b       | a+b     |\n",
    "|:--------:|:-------:|:-------:|\n",
    "| 0        |      0  |      0  |\n",
    "| 1        |      0  |      1  |\n",
    "| 0        |      1  |      1  |\n",
    "| 1        |      1  |      0  |"
   ]
  },
  {
   "cell_type": "markdown",
   "id": "82fc8823-f585-42d6-83f7-9a35ef9272bf",
   "metadata": {},
   "source": [
    "<div class=\"alert alert-block alert-success\">\n",
    "\n",
    "**Q1.4 Build your classical addition algorithm on quantum circuit (1 pt)**  \n",
    "    \n",
    "With the encoding function, we can now write the classical addition algorithm using quantum circuit. Use the gates that you learned in this notebook. When you finish, play with values of $a$ and $b$ and convince yourself that your function works for any combinations of $a$ and $b$.\n",
    "</div>"
   ]
  },
  {
   "cell_type": "code",
   "execution_count": null,
   "id": "c3d3fccb-c8ae-462d-9df7-6220afdc70c7",
   "metadata": {},
   "outputs": [],
   "source": [
    "def classical_add(a, b):\n",
    "    assert a in [0, 1]\n",
    "    assert b in [0, 1]\n",
    "    circuit = QuantumCircuit(2)\n",
    "    ##### ==================================\n",
    "    # Write your solution in here.\n",
    "\n",
    "        \n",
    "    ##### ==================================\n",
    "    return circuit\n",
    "\n",
    "# You may want to the following code to test your results\n",
    "this_circ = classical_add(a=0, b=1)\n",
    "backend = Aer.get_backend('statevector_simulator')\n",
    "result = execute(this_circ, backend).result().get_statevector()\n",
    "plot_bloch_multivector(result)"
   ]
  },
  {
   "attachments": {
    "43d28cf2-7da3-4cab-a08b-913c19fd26ef.png": {
     "image/png": "[encoded data removed]"
    }
   },
   "cell_type": "markdown",
   "id": "ee075e05-eb87-4207-be4a-379e1a3b5643",
   "metadata": {},
   "source": [
    "However, in reality, addition is more complicated, as we need to take carry into consideration as well, the sum is\n",
    "\n",
    "$s = (a+b)+carry$\n",
    "\n",
    "We would need in this case three qubits,\n",
    "\n",
    "![image.png](attachment:43d28cf2-7da3-4cab-a08b-913c19fd26ef.png)"
   ]
  },
  {
   "cell_type": "markdown",
   "id": "85cfb4d6-75fa-4361-9587-6c54151ee781",
   "metadata": {},
   "source": [
    "<div class=\"alert alert-block alert-success\">\n",
    "\n",
    "**Q1.5 Building your classical addition algorithm with carry (1 pt)**  \n",
    "    \n",
    "Now build your classical addition algorithm with carry. Convince yourself that your algorithm works for any combination of $a$, $b$, and $c$.\n",
    "</div>"
   ]
  },
  {
   "cell_type": "code",
   "execution_count": null,
   "id": "2e0d907e-ce81-48ad-aba8-56d7b0615a2b",
   "metadata": {},
   "outputs": [],
   "source": [
    "def classical_add_with_carry(a, b, carry):\n",
    "    assert a in [0, 1]\n",
    "    assert b in [0, 1]\n",
    "    assert carry in [0, 1]\n",
    "    circuit = QuantumCircuit(3)\n",
    "    ##### ==================================\n",
    "    # Write your solution in here.\n",
    "    \n",
    "    \n",
    "    ##### ==================================\n",
    "    return circuit\n",
    "\n",
    "# You may want to the following code to test your results\n",
    "this_circ = classical_add_with_carry(a=1, b=0, carry=1)\n",
    "backend = Aer.get_backend('statevector_simulator')\n",
    "result = execute(this_circ, backend).result().get_statevector()\n",
    "plot_bloch_multivector(result)"
   ]
  },
  {
   "cell_type": "markdown",
   "id": "29680387-9a24-4403-aece-32bf160f53ec",
   "metadata": {},
   "source": [
    "For our exercise, we will stop here. In real application, one would also consider how to obtain the new carry, and move onto higher bit of signifance. We will leave that for another time."
   ]
  },
  {
   "cell_type": "markdown",
   "id": "53ad2419-436d-49ef-b43a-22df9d4a7d97",
   "metadata": {},
   "source": [
    "## 1.3 Quantum Addition using Quantum Circuit"
   ]
  },
  {
   "attachments": {
    "b9adc1ba-e680-4c5e-ae11-f2d0eb6ee0ba.png": {
     "image/png": "[encoded data removed]"
    }
   },
   "cell_type": "markdown",
   "id": "a82b59dd-769f-402d-b6bf-8cf45c930017",
   "metadata": {},
   "source": [
    "In case you may have wondered, we have used the word \"Classical addition\" throughout Section 1.2. It is because we have treated quantum addition in the classical way. In quantum arithmetic world, researchers found that it is more efficient to encode binary bits as relative quantum phases, i.e., in the transverse plane (the x-y plane) of the Bloch sphere. In this way, addition of integer is converted to addition of phases where carries can be manageabled much more conveniently. Quantum addition also allows for circuit parallelization and approximation that is crucial when the problem size increases.\n",
    "\n",
    "In the following exercise, we will look at the quantum addition algorithm applied to two 1-bit integers $a$ and $b$ as before. The basic idea is as follows:\n",
    "\n",
    "![image.png](attachment:b9adc1ba-e680-4c5e-ae11-f2d0eb6ee0ba.png)\n",
    "\n",
    "The algorithm is divided into three parts: \n",
    "\n",
    "(a) Quantum phase encoding   \n",
    "(b) Phase addition   \n",
    "(c) Quantum phase decoding   \n",
    "\n",
    "We look at the phase encoding part first. "
   ]
  },
  {
   "cell_type": "markdown",
   "id": "8c470399-453d-4e0a-8624-e49654987ef6",
   "metadata": {},
   "source": [
    "<div class=\"alert alert-block alert-success\">\n",
    "\n",
    "**Q1.6 Building your single-qubit phase encoding function (1 pt)**  \n",
    "\n",
    "For the single qubit state $|b\\rangle$, we want to encode according to the mapping: $|0\\rangle \\rightarrow |+\\rangle$, $|1\\rangle \\rightarrow |-\\rangle$. What quantum gate or gates should you use to achieve this? Write your function below.\n",
    "</div>\n"
   ]
  },
  {
   "cell_type": "code",
   "execution_count": null,
   "id": "ba31aedd-a8c6-4d45-bf5a-3aeaea2fcec7",
   "metadata": {},
   "outputs": [],
   "source": [
    "def encode_integer_to_phase(circuit, qubit):\n",
    "    ##### ==================================\n",
    "    # Write your solution in here. Remember, before encoding to phases, \n",
    "    # your integers are already encoded as quantum state |0> and |1>\n",
    "    \n",
    "    \n",
    "    ##### ==================================\n",
    "    return circuit"
   ]
  },
  {
   "cell_type": "markdown",
   "id": "3be7625f-29c1-4b77-b82d-4e8073f5ac79",
   "metadata": {},
   "source": [
    "In the quantum phase addition part, we want to add the quantum phase of $|a\\rangle$ to $|\\phi(b)\\rangle$ without modifying the state $|a\\rangle$. As you can imagine, this type of operation is best achieved using a controlled gate. Speaking of quantum phases, the most intuitive gate to use is the controlled-phase gate or CP-gate. In Qiskit, you can use \"circuit.cp(theta, control_qubit, target_qubit)\" to apply a CP-gate with an angle of theta (in radians). Since the phase between $|+\\rangle$ and $|-\\rangle$ is $\\pi$, we should rotate an angle of $\\pi$, to make the addition on equal footing."
   ]
  },
  {
   "cell_type": "markdown",
   "id": "330e5929-4b30-4be0-bd50-724fa4ee20e0",
   "metadata": {},
   "source": [
    "<div class=\"alert alert-block alert-success\">\n",
    "\n",
    "**Q1.7 Building your phase addition function (1 pt)**  \n",
    "Write a phase addition function to add the phase of incoming integer state $|a\\rangle$ to recipient state $|\\phi(b)\\rangle$.    \n",
    "</div>\n"
   ]
  },
  {
   "cell_type": "code",
   "execution_count": null,
   "id": "f10bedd0-18ff-4b38-ad50-38c6cb30845a",
   "metadata": {
    "tags": []
   },
   "outputs": [],
   "source": [
    "def phase_addition(circuit, incoming_qubit, recipient_qubit):\n",
    "    ##### ==================================\n",
    "    # Write your solution in here.\n",
    "    \n",
    "    \n",
    "    ##### ==================================\n",
    "    return circuit\n",
    "\n",
    "# You may want to the following code to test your results\n",
    "a = 0; b = 1;\n",
    "this_circ = QuantumCircuit(2)\n",
    "this_circ = encode_integer(this_circ, 0, a)\n",
    "this_circ = encode_integer(this_circ, 1, b)\n",
    "this_circ = encode_integer_to_phase(this_circ, 1)\n",
    "this_circ = phase_addition(this_circ, 0, 1)\n",
    "backend = Aer.get_backend('statevector_simulator')\n",
    "result = execute(this_circ, backend).result().get_statevector()\n",
    "plot_bloch_multivector(result)"
   ]
  },
  {
   "cell_type": "markdown",
   "id": "db230d84-1799-48dd-bf63-3634e609538b",
   "metadata": {},
   "source": [
    "<div class=\"alert alert-block alert-success\">\n",
    "\n",
    "**Q1.8 Building your phase decoding function (1 pt)**  \n",
    "Decoding in quantum computing is easy as all quantum operations are reversible. Write your phase decoding function, which is the reverse of your encoding function.\n",
    "</div>\n"
   ]
  },
  {
   "cell_type": "code",
   "execution_count": null,
   "id": "0a5d111e-1e0e-42bf-82d7-84317aea11c0",
   "metadata": {},
   "outputs": [],
   "source": [
    "def decode_phase_to_integer(circuit, qubit):\n",
    "    ##### ==================================\n",
    "    # Write your solution in here. \n",
    "\n",
    "    \n",
    "    ##### ==================================\n",
    "    return circuit"
   ]
  },
  {
   "cell_type": "markdown",
   "id": "614c9f3f-bf16-4649-b5a2-031b447f320b",
   "metadata": {},
   "source": [
    "<div class=\"alert alert-block alert-success\">\n",
    "\n",
    "**Q1.9 Building your final quantum addition algorithm function (1 pt)**  \n",
    "The floor is yours.\n",
    "</div>\n"
   ]
  },
  {
   "cell_type": "code",
   "execution_count": null,
   "id": "ac41de73-3e45-4412-b176-4ab13d36c3e2",
   "metadata": {},
   "outputs": [],
   "source": [
    "def quantum_add(a, b):\n",
    "    assert a in [0, 1]\n",
    "    assert b in [0, 1]\n",
    "    circuit = QuantumCircuit(2)\n",
    "    ##### ==================================\n",
    "    # Write your solution in here.\n",
    "    \n",
    "    \n",
    "    ##### ==================================\n",
    "    return circuit\n",
    "\n",
    "# You may want to the following code to test your results\n",
    "this_circ = quantum_add(a=1, b=0)\n",
    "backend = Aer.get_backend('statevector_simulator')\n",
    "result = execute(this_circ, backend).result().get_statevector()\n",
    "plot_bloch_multivector(result)"
   ]
  },
  {
   "cell_type": "markdown",
   "id": "770ddc18-738f-4571-8273-128055873394",
   "metadata": {},
   "source": [
    "<div class=\"alert alert-block alert-success\">\n",
    "\n",
    "**Submission instructions**  \n",
    "    \n",
    "When you are ready, please run the following cells and email your Jupyter notebooks to meijian.li@usc.es\n",
    "</div>"
   ]
  },
  {
   "cell_type": "code",
   "execution_count": null,
   "id": "e3400c88-dc22-4940-94fb-04dce4026bc7",
   "metadata": {},
   "outputs": [],
   "source": [
    "import qiskit.tools.jupyter\n",
    "%qiskit_version_table"
   ]
  },
  {
   "cell_type": "markdown",
   "id": "1a66cd06-1284-4bc0-bc5c-d4ddac7acaaf",
   "metadata": {},
   "source": [
    "<div class=\"alert alert-block alert-success\">\n",
    "\n",
    "**Summary**  \n",
    "    \n",
    "In this Jupyter notebook, we learned to build quantum circuits and visualize results on Bloch sphere. We explored classical addition algorithm and quantum addition algorithms using circuits.\n",
    "    \n",
    "The quantum additoin algorithms really shines when the problem scales, allowing for parallelization and approximation. The encoding and decoding parts that we used are the one-qubit special case of the Quantum Fourier Transform and its inverse, whose applications are everywhere in almost all quantum algorithms. Its asymptotics can be even improved with Approximated Quantum Fourier Transform.\n",
    "    \n",
    "For more interested readers, learn more about quantum addition and quantum arithmetics at this two papers\n",
    "* Draper, [Addition on a Quantum Computer](https://arxiv.org/abs/quant-ph/0008033)\n",
    "* Basili, Qian, Tang, et. al., [Performance Evaluations of Noisy Approximate Quantum Fourier Arithmetic](https://arxiv.org/abs/2112.09349)     \n",
    "</div>"
   ]
  },
  {
   "cell_type": "code",
   "execution_count": null,
   "id": "643f6689-26f0-4a38-a01f-1e014d5c1382",
   "metadata": {},
   "outputs": [],
   "source": []
  }
 ],
 "metadata": {
  "kernelspec": {
   "display_name": "Python 3",
   "language": "python",
   "name": "python3"
  },
  "language_info": {
   "codemirror_mode": {
    "name": "ipython",
    "version": 3
   },
   "file_extension": ".py",
   "mimetype": "text/x-python",
   "name": "python",
   "nbconvert_exporter": "python",
   "pygments_lexer": "ipython3",
   "version": "3.9.6"
  }
 },
 "nbformat": 4,
 "nbformat_minor": 5
}
